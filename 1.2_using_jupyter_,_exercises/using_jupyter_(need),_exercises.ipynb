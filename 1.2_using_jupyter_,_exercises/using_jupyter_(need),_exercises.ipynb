{
 "cells": [
  {
   "attachments": {},
   "cell_type": "markdown",
   "id": "123456",
   "metadata": {},
   "source": [
    "<div style=\"text-align:left;font-size:2em\"><span style=\"font-weight:bolder;font-size:1.25em\">SP2273 | Learning Portfolio</span><br><br><span style=\"font-weight:bold;color:darkred\">Using Jupyter (Need), Exercises</span></div>"
   ]
  },
  {
   "attachments": {},
   "cell_type": "markdown",
   "id": "cdc53a8a",
   "metadata": {},
   "source": [
    "# 1 Quadratic Equations"
   ]
  },
  {
   "attachments": {},
   "cell_type": "markdown",
   "id": "d1425b66",
   "metadata": {},
   "source": [
    "# Introduction"
   ]
  },
  {
   "cell_type": "markdown",
   "id": "7f5d44c3-2bae-4980-bd11-894d6440be50",
   "metadata": {},
   "source": [
    "\n",
    "![](https://upload.wikimedia.org/wikipedia/commons/thumb/f/f8/Polynomialdeg2.svg/300px-Polynomialdeg2.svg.png)\n",
    "\n",
    "*(Image from the [Wikipedia page on Quadratic equations](https://en.wikipedia.org/wiki/Quadratic_equation))*"
   ]
  },
  {
   "cell_type": "markdown",
   "id": "d087223e-a8c2-41be-85de-e81380aa39d2",
   "metadata": {},
   "source": [
    "The general form of a quadratic equation is: \n",
    "$$ ax^2 + bx + c = 0 $$"
   ]
  },
  {
   "attachments": {},
   "cell_type": "markdown",
   "id": "0dc8e127",
   "metadata": {},
   "source": [
    "# Solutions"
   ]
  },
  {
   "cell_type": "markdown",
   "id": "2a5a2f93-4959-46bd-a823-2f026fd475d6",
   "metadata": {},
   "source": [
    "\n",
    "Provided $a \\ne 0$, we can use an elementary algebraic method called [completing the square](https://en.wikipedia.org/wiki/Completing_the_square) to show that a quadratic equation has the following solution: \n",
    "\n",
    "$$ x=\\dfrac{-b \\pm \\sqrt{b^2-4ac}}{2a} $$\n"
   ]
  },
  {
   "attachments": {},
   "cell_type": "markdown",
   "id": "4578c9ac",
   "metadata": {},
   "source": [
    "### Discriminant"
   ]
  },
  {
   "cell_type": "markdown",
   "id": "18e1b72e-b750-4fae-8d00-8d6dfea2b1f6",
   "metadata": {},
   "source": [
    "The quantity $\\Delta=b^2-4ac$ is called the **discriminant** of the equation and decides the nature of its solutions. The table below shows the various possibilities."
   ]
  },
  {
   "cell_type": "markdown",
   "id": "c63811ed-4f02-45a6-8b98-f66699dd9d39",
   "metadata": {},
   "source": [
    "|**Discriminant**  |**Roots**                           |\n",
    "|:---|:---|\n",
    "|$\\Delta=b^2-4ac=0$|A single solution of $-b/(2a)$      |\n",
    "|$\\Delta=b^2-4ac>0$|Two distinct solutions              |\n",
    "|$\\Delta=b^2-4ac<0$|No real solutions; both are complex.|"
   ]
  },
  {
   "cell_type": "markdown",
   "id": "1479df49-ba7e-414f-98cc-c0bd0987be95",
   "metadata": {},
   "source": [
    "1. A Git **repository** is a place where you can store your code, your files, and each file's revision history.\n",
    "2. Git keeps track of the changes to code.\n",
    "3. A **commit** is a task that specifies what file changes you want to be recorded and attaches a brief description of these changes. This will make it easy for you to see the evolution of your repository.\n",
    "4. A **push** is a task that allows you to transfer the changes initially recorded locally on your device to the server.\n",
    "5. A **pull** is a task that allows you to save changes from the cloud to our local machine.\n",
    "6. **GitHub** is a storage for Git repositories whereas **GitHub Desktop** is a open-source application that lets users interact with GitHub from their local computer."
   ]
  },
  {
   "cell_type": "markdown",
   "id": "6b56774f-612b-4891-87e7-95c05a5006dd",
   "metadata": {},
   "source": [
    "**Exercise 3(A Matter of Statistics)** The mean ($\\mu$), standard deviation ($\\sigma$), and Pearson correlation coefficient (*r*) are important statistical parameters. Given variables x<sub>i</sub> and y<sub>i</sub> representing the *i*-th values in a dataset with *n* pairs, use Markdown notation to write the equations for these parameters.\n",
    "\n",
    "Your equations should ideally look like the following. You might find [this resource](https://www.cmor-faculty.rice.edu/~heinken/latex/symbols.pdf) from Rice University useful."
   ]
  },
  {
   "cell_type": "markdown",
   "id": "b1947620-3749-4c26-abd5-51b4c23d17a5",
   "metadata": {},
   "source": [
    "$$\\mu=\\dfrac{1}{n}\\sum_{i=1}^{n}x_{i}$$"
   ]
  },
  {
   "cell_type": "markdown",
   "id": "e5257be3-7da3-40d2-8661-ee8129e7cc0f",
   "metadata": {},
   "source": [
    "$$\\sigma=\\sqrt{\\dfrac{1}{n}\\sum_{i=1}^{n}(x_{i}-\\mu)^2}$$"
   ]
  },
  {
   "cell_type": "markdown",
   "id": "e2af56c1-0a9b-46d8-9432-3451d4b2d986",
   "metadata": {},
   "source": [
    "$$r=\\dfrac{\\sum_{i=1}^{n}(x_{i}-\\mu_{X})(y_{i}-\\mu_{Y})}{\\sqrt{\\sum_{i=1}^{n}(x_{i}-\\mu_{X})^2\\sum_{i=1}^{n}(y_{i}-\\mu_{Y})^2}}$$"
   ]
  }
 ],
 "metadata": {
  "kernelspec": {
   "display_name": "Python 3 (ipykernel)",
   "language": "python",
   "name": "python3"
  },
  "language_info": {
   "codemirror_mode": {
    "name": "ipython",
    "version": 3
   },
   "file_extension": ".py",
   "mimetype": "text/x-python",
   "name": "python",
   "nbconvert_exporter": "python",
   "pygments_lexer": "ipython3",
   "version": "3.12.3"
  },
  "toc": {
   "base_numbering": 1,
   "nav_menu": {},
   "number_sections": true,
   "sideBar": true,
   "skip_h1_title": false,
   "title_cell": "Table of Contents",
   "title_sidebar": "Contents",
   "toc_cell": false,
   "toc_position": {},
   "toc_section_display": true,
   "toc_window_display": false
  },
  "vscode": {
   "interpreter": {
    "hash": "31f2aee4e71d21fbe5cf8b01ff0e069b9275f58929596ceb00d14d90e3e16cd6"
   }
  }
 },
 "nbformat": 4,
 "nbformat_minor": 5
}
