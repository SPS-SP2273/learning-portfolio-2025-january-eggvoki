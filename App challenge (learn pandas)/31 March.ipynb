{
 "cells": [
  {
   "cell_type": "code",
   "execution_count": 41,
   "id": "062a57f0-f137-4d43-b9cd-6df11c720cb3",
   "metadata": {},
   "outputs": [],
   "source": [
    "import scipy.io.wavfile as wav\n",
    "import scipy.signal as ss\n",
    "from scipy.io import wavfile\n",
    "import numpy as np\n",
    "import os\n",
    "import matplotlib.pyplot as plt"
   ]
  },
  {
   "cell_type": "code",
   "execution_count": 43,
   "id": "a34dc2e3-2517-4a95-a9c9-71c67c64becd",
   "metadata": {},
   "outputs": [
    {
     "name": "stdout",
     "output_type": "stream",
     "text": [
      "Processing complete!\n"
     ]
    }
   ],
   "source": [
    "os.makedirs('trimmed_data', exist_ok=True)\n",
    "for file in os.listdir('sound_data'):\n",
    "    if file.lower().endswith('.wav'):\n",
    "        sample_rate, data = wavfile.read(os.path.join('sound_data', file))\n",
    "        wavfile.write(os.path.join('trimmed_data', file), sample_rate, data[:,0][:44100])\n",
    "print('Processing complete!')"
   ]
  },
  {
   "cell_type": "code",
   "execution_count": null,
   "id": "b95c4331-ac6d-42ca-bd6b-d502e19ce991",
   "metadata": {},
   "outputs": [],
   "source": []
  }
 ],
 "metadata": {
  "kernelspec": {
   "display_name": "Python 3 (ipykernel)",
   "language": "python",
   "name": "python3"
  },
  "language_info": {
   "codemirror_mode": {
    "name": "ipython",
    "version": 3
   },
   "file_extension": ".py",
   "mimetype": "text/x-python",
   "name": "python",
   "nbconvert_exporter": "python",
   "pygments_lexer": "ipython3",
   "version": "3.12.3"
  }
 },
 "nbformat": 4,
 "nbformat_minor": 5
}
