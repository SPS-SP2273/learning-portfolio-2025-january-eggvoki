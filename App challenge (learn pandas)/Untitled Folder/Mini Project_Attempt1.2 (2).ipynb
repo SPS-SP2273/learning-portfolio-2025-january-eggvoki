{
 "cells": [
  {
   "cell_type": "code",
   "execution_count": 1,
   "id": "5ce7f759-0ba8-4ce5-af1d-c546e373e961",
   "metadata": {},
   "outputs": [],
   "source": [
    "import scipy.io.wavfile as wav\n",
    "import scipy.signal as ss\n",
    "import numpy as np\n",
    "import os\n",
    "import matplotlib.pyplot as plt"
   ]
  },
  {
   "cell_type": "markdown",
   "id": "9653e988-df3f-4548-aa75-79453664b777",
   "metadata": {},
   "source": [
    "## Checking file info ie. sample rate, data.shape, duration"
   ]
  },
  {
   "cell_type": "code",
   "execution_count": 2,
   "id": "6cff8e7a-39f8-4240-8380-8bd060da772e",
   "metadata": {},
   "outputs": [
    {
     "data": {
      "text/plain": [
       "(44100,\n",
       " array([[ 0.0000000e+00,  0.0000000e+00],\n",
       "        [-1.7990617e-09, -1.7990617e-09],\n",
       "        [-5.7480776e-09, -5.7480776e-09],\n",
       "        ...,\n",
       "        [ 0.0000000e+00,  0.0000000e+00],\n",
       "        [ 0.0000000e+00,  0.0000000e+00],\n",
       "        [ 0.0000000e+00,  0.0000000e+00]],\n",
       "       shape=(5777100, 2), dtype=float32))"
      ]
     },
     "execution_count": 2,
     "metadata": {},
     "output_type": "execute_result"
    }
   ],
   "source": [
    "sample_rate, data = wav.read('./sound_data/Violin A-violin.wav')\n",
    "sample_rate, data #checking data files"
   ]
  },
  {
   "cell_type": "code",
   "execution_count": 3,
   "id": "9914853a-401b-4969-912a-884945455ae2",
   "metadata": {},
   "outputs": [
    {
     "data": {
      "text/plain": [
       "131.0"
      ]
     },
     "execution_count": 3,
     "metadata": {},
     "output_type": "execute_result"
    }
   ],
   "source": [
    "duration_seconds = len(data) / 44100\n",
    "duration_seconds"
   ]
  },
  {
   "cell_type": "markdown",
   "id": "a396e3ae-a77d-4eec-a99c-e4d83c501319",
   "metadata": {},
   "source": [
    "## Checking file info for entire folder"
   ]
  },
  {
   "cell_type": "code",
   "execution_count": 4,
   "id": "64cf201f-8ffe-4c06-b921-a5ff2a95eb85",
   "metadata": {},
   "outputs": [
    {
     "data": {
      "text/plain": [
       "12"
      ]
     },
     "execution_count": 4,
     "metadata": {},
     "output_type": "execute_result"
    }
   ],
   "source": [
    "trimmed_path = 'trimmed_files'\n",
    "\n",
    "x=0 \n",
    "\n",
    "for files in os.listdir(trimmed_path):\n",
    "    file_path = os.path.join(trimmed_path, files)\n",
    "    sample_rate, data = wav.read(file_path)\n",
    "    if sample_rate == 44100:\n",
    "        if data.shape == (44100, 2):\n",
    "            x+=1 #there probably is a better way to just return true/false values\n",
    "        else: \n",
    "            print('error')\n",
    "    else:\n",
    "        print('error')\n",
    "\n",
    "x"
   ]
  },
  {
   "cell_type": "markdown",
   "id": "63ddc626-6a34-4e35-9307-bd99858e4c3f",
   "metadata": {},
   "source": [
    "## LOOP TO TRIM \n",
    "__DO NOT RUN AGAIN__"
   ]
  },
  {
   "cell_type": "code",
   "execution_count": 5,
   "id": "84b2a305-3ec2-42ff-8c6e-0bcfda66ed25",
   "metadata": {
    "scrolled": true
   },
   "outputs": [
    {
     "ename": "FileExistsError",
     "evalue": "[WinError 183] Cannot create a file when that file already exists: './trimmed_files'",
     "output_type": "error",
     "traceback": [
      "\u001b[1;31m---------------------------------------------------------------------------\u001b[0m",
      "\u001b[1;31mFileExistsError\u001b[0m                           Traceback (most recent call last)",
      "Cell \u001b[1;32mIn[5], line 2\u001b[0m\n\u001b[0;32m      1\u001b[0m folder_path \u001b[38;5;241m=\u001b[39m \u001b[38;5;124m'\u001b[39m\u001b[38;5;124msound_data\u001b[39m\u001b[38;5;124m'\u001b[39m\n\u001b[1;32m----> 2\u001b[0m \u001b[43mos\u001b[49m\u001b[38;5;241;43m.\u001b[39;49m\u001b[43mmakedirs\u001b[49m\u001b[43m(\u001b[49m\u001b[38;5;124;43m'\u001b[39;49m\u001b[38;5;124;43m./trimmed_files\u001b[39;49m\u001b[38;5;124;43m'\u001b[39;49m\u001b[43m)\u001b[49m\n\u001b[0;32m      4\u001b[0m \u001b[38;5;28;01mfor\u001b[39;00m old_files \u001b[38;5;129;01min\u001b[39;00m os\u001b[38;5;241m.\u001b[39mlistdir(folder_path):\n\u001b[0;32m      5\u001b[0m     \u001b[38;5;28;01mif\u001b[39;00m old_files\u001b[38;5;241m.\u001b[39mendswith(\u001b[38;5;124m'\u001b[39m\u001b[38;5;124m.wav\u001b[39m\u001b[38;5;124m'\u001b[39m):\n",
      "File \u001b[1;32m<frozen os>:225\u001b[0m, in \u001b[0;36mmakedirs\u001b[1;34m(name, mode, exist_ok)\u001b[0m\n",
      "\u001b[1;31mFileExistsError\u001b[0m: [WinError 183] Cannot create a file when that file already exists: './trimmed_files'"
     ]
    }
   ],
   "source": [
    "folder_path = 'sound_data'\n",
    "os.makedirs('./trimmed_files')\n",
    "\n",
    "for old_files in os.listdir(folder_path):\n",
    "    if old_files.endswith('.wav'):\n",
    "        file_path = os.path.join(folder_path, old_files)\n",
    "        sample_rate, data = wav.read(file_path)\n",
    "        trimmed_data = data[:44100]  # slice the data array to the first 1 second\n",
    "        trimmed_filename = f\"1_{old_files}\"\n",
    "        trimmed_file_path = os.path.join('./trimmed_files', trimmed_filename)\n",
    "        wav.write(trimmed_file_path, sample_rate, trimmed_data)\n",
    "\n",
    "        print(f\"Trimmed {old_files} and saved as {trimmed_filename}\")"
   ]
  },
  {
   "cell_type": "markdown",
   "id": "ee92a086-c591-4719-9520-bf753841d7a7",
   "metadata": {},
   "source": [
    "## Plotting FFT signature and peaks"
   ]
  },
  {
   "cell_type": "code",
   "execution_count": null,
   "id": "b4b46c19-f83f-4227-9f11-aaa7eb78f32c",
   "metadata": {},
   "outputs": [],
   "source": [
    "sample_rate, data = wav.read('trimmed_files/1_A-Violoncello.wav')\n",
    "data = data[:, 0]  # isolate channel 1\n",
    "\n",
    "# Y-values AMPLITUDE \n",
    "fft_data = np.fft.fft(data) # FFT audio signal (time-domain data) [array of Y-values in complex numbers]\n",
    "amplitude = np.abs(fft_data) # amplitude spectrum (gives the magnitude in positive Y-values)\n",
    "\n",
    "\n",
    "# X-values CORRESPONDING FREQUENCIES\n",
    "n = len(data)\n",
    "frequencies = np.fft.fftfreq(n, 1 / sample_rate)  # window length, sample spacing = inverse of sample rate\n",
    "\n",
    "# FINDING PEAKS \n",
    "        # QN: DOES THIS REALLY HELP TO DETERMINE IF X-AXIS = Hz?\n",
    "peak_indices, _ = ss.find_peaks(amplitude[:n//2], prominence=20) # find peaks in positive range \n",
    "\n",
    "    # CHECKING\n",
    "print(peak_indices)\n",
    "print(amplitude[peak_indices])\n",
    "    # print(list(zip(peak_indices,amplitude[peak_indices])))\n",
    "\n",
    "plt.figure(figsize=(10, 6))\n",
    "\n",
    "plt.scatter(frequencies[peak_indices],amplitude[peak_indices]) # plot peaks \n",
    "    # CHECKING\n",
    "    # plt.xlim(250,1800)\n",
    "\n",
    "\n",
    "# PLOT BEAUTIFIERS\n",
    "plt.title('Frequency Spectrum of the Audio')\n",
    "plt.xlabel('Frequency (Hz)')\n",
    "plt.ylabel('Amplitude')\n",
    "    # CHECKING    \n",
    "    # plt.ylim(0,10)\n",
    "plt.grid(True)\n",
    "\n",
    "# PLOTTING\n",
    "plt.plot(frequencies[:n//2], amplitude[:n//2]) # slice to obtain last 22050 elements in the array ie. positive X-values FREQUENCIES\n",
    "        # CHECKING\n",
    "        # plt.xlim(438,442)\n",
    "        # print(frequencies[peak_indices])\n",
    "\n",
    "plt.xlim(0,2500)\n",
    "\n",
    "plt.show()"
   ]
  },
  {
   "cell_type": "code",
   "execution_count": null,
   "id": "d1544b8a-e7d0-44c4-94c2-789b591c0a6e",
   "metadata": {},
   "outputs": [],
   "source": [
    "# THRESHOLDING \n",
    "        # let's take delta(-) = 100, delta(+) = 1500\n",
    "\n",
    "central_index = np.argmax(amplitude)\n",
    "\n",
    "spliced_f=frequencies[(central_index-500):(central_index+1500)]\n",
    "spliced_a=amplitude[(central_index-500):(central_index+1500)]\n",
    "\n",
    "plt.plot(spliced_f, spliced_a)"
   ]
  },
  {
   "cell_type": "markdown",
   "id": "301334c2-ea18-4ec2-804f-4c8ba550855e",
   "metadata": {},
   "source": [
    "## Now we loop"
   ]
  },
  {
   "cell_type": "code",
   "execution_count": null,
   "id": "0c7b9462-d06f-43ae-8374-01873bdbddad",
   "metadata": {
    "scrolled": true
   },
   "outputs": [],
   "source": [
    "plt.figure(figsize=(10, 6))\n",
    "    # plt.ylim(0,10)\n",
    "\n",
    "trimmed_path = 'trimmed_files'\n",
    "\n",
    "for allfiles in os.listdir(trimmed_path):\n",
    "    if allfiles.endswith('Violoncello.wav'):\n",
    "        file_path = os.path.join(trimmed_path, allfiles)\n",
    "        sample_rate, data = wav.read(file_path)\n",
    "        data = data[:, 0]  # isolate channel 1\n",
    "    \n",
    "        # Y-values AMPLITUDE \n",
    "        fft_data = np.fft.fft(data) # FFT audio signal (time-domain data) [array of Y-values in complex numbers]\n",
    "        amplitude = np.abs(fft_data) # amplitude spectrum (gives the magnitude in positive Y-values)\n",
    "\n",
    "        # X-values CORRESPONDING FREQUENCIES\n",
    "        n = len(data)\n",
    "        frequencies = np.fft.fftfreq(n, 1 / sample_rate)  # window length, sample spacing = inverse of sample rate\n",
    "\n",
    "        # PLOTTING\n",
    "        plt.plot(frequencies[:n//2], amplitude[:n//2]) # slice to obtain last 22050 elements in the array ie. positive X-values FREQUENCIES\n",
    "            # CHECKING\n",
    "            # plt.xlim(438,442)\n",
    "            # print(frequencies[peak_indices])\n",
    "\n",
    "plt.xlim(0,1500)\n",
    "\n",
    "plt.show()"
   ]
  },
  {
   "cell_type": "markdown",
   "id": "851288c0-b537-4b84-9027-d3aa9afaaf13",
   "metadata": {},
   "source": [
    "## Normalising 12 cello waves"
   ]
  },
  {
   "cell_type": "code",
   "execution_count": null,
   "id": "2a922854-678c-4a90-9dbc-2f22610b2e56",
   "metadata": {},
   "outputs": [],
   "source": [
    "plt.figure(figsize=(10, 6))\n",
    "    # plt.ylim(0,10)\n",
    "\n",
    "trimmed_path = 'trimmed_files'\n",
    "\n",
    "for allfiles in os.listdir(trimmed_path):\n",
    "    if allfiles.endswith('Violoncello.wav'):\n",
    "        if not allfiles.startswith('1_A'):\n",
    "            file_path = os.path.join(trimmed_path, allfiles)\n",
    "            sample_rate, data = wav.read(file_path)\n",
    "            data = data[:, 0]  # isolate channel 1\n",
    "        \n",
    "            # Y-values AMPLITUDE \n",
    "            fft_data = np.fft.fft(data) # FFT audio signal (time-domain data) [array of Y-values in complex numbers]\n",
    "            amplitude = np.abs(fft_data) # amplitude spectrum (gives the magnitude in positive Y-values)\n",
    "    \n",
    "            # X-values CORRESPONDING FREQUENCIES\n",
    "            n = len(data)\n",
    "            frequencies = np.fft.fftfreq(n, 1 / sample_rate)  # window length, sample spacing = inverse of sample rate\n",
    "    \n",
    "            # NORMALISE X-AXIS, taking delta(-) = 200, delta(+) = 1500\n",
    "                \n",
    "            central_index = np.argmax(amplitude)\n",
    "            norm = amplitude[central_index]\n",
    "                    # print(central_index) CHECKING\n",
    "                \n",
    "            spliced_f=frequencies[(central_index-200):(central_index+1500)]\n",
    "            spliced_a=amplitude[(central_index-200):(central_index+1500)]\n",
    "            norm_a = spliced_a/norm\n",
    "               \n",
    "            # PLOTTING\n",
    "            plt.plot(norm_a) \n",
    "            \n",
    "                # plt.xlim(438,442)\n",
    "                # print(frequencies[peak_indices])\n",
    "\n",
    "plt.xlim(0,1800)\n",
    "\n",
    "plt.show()"
   ]
  },
  {
   "cell_type": "markdown",
   "id": "71889fa3-3046-48d2-a827-88407b2df205",
   "metadata": {},
   "source": [
    "## Comparing 4 instruments"
   ]
  },
  {
   "cell_type": "code",
   "execution_count": null,
   "id": "2182b40d-fb61-4ca1-9a51-6b7abb80691d",
   "metadata": {},
   "outputs": [],
   "source": [
    "plt.figure(figsize=(10, 6))\n",
    "    # plt.ylim(0,10)\n",
    "\n",
    "arrays_cello=[]\n",
    "arrays_violin=[]\n",
    "arrays_flute=[]\n",
    "arrays_oboe=[]\n",
    "\n",
    "trimmed_path = 'trimmed_files'\n",
    "\n",
    "for allfiles in os.listdir(trimmed_path):\n",
    "    if allfiles.endswith('Violoncello.wav'):\n",
    "        if not allfiles.startswith('1_A'): # there might be something wrong with A? HELPP\n",
    "            file_path = os.path.join(trimmed_path, allfiles)\n",
    "            sample_rate, data = wav.read(file_path)\n",
    "            data = data[:, 0]  # isolate channel 1\n",
    "        \n",
    "            # Y-values AMPLITUDE \n",
    "            fft_data = np.fft.fft(data) # FFT audio signal (time-domain data) [array of Y-values in complex numbers]\n",
    "            amplitude = np.abs(fft_data) # amplitude spectrum (gives the magnitude in positive Y-values)\n",
    "    \n",
    "            # X-values CORRESPONDING FREQUENCIES\n",
    "            n = len(data)\n",
    "            frequencies = np.fft.fftfreq(n, 1 / sample_rate)  # window length, sample spacing = inverse of sample rate\n",
    "            \n",
    "            # NORMALISE X-AXIS, taking delta(-) = 200, delta(+) = 1500\n",
    "            \n",
    "            central_index = np.argmax(amplitude)\n",
    "            norm = amplitude[central_index]\n",
    "                # print(central_index) CHECKING\n",
    "            \n",
    "            spliced_f=frequencies[(central_index-200):(central_index+1500)]\n",
    "            spliced_a=amplitude[(central_index-200):(central_index+1500)]\n",
    "            norm_a = spliced_a/norm\n",
    "            \n",
    "            arrays_cello.append(norm_a)\n",
    "            \n",
    "            # plt.plot(spliced_a) NOT PLOTTING FIRST\n",
    "\n",
    "    if allfiles.endswith('Violin.wav'):\n",
    "        if not allfiles.startswith('1_A'):\n",
    "            file_path = os.path.join(trimmed_path, allfiles)\n",
    "            sample_rate, data = wav.read(file_path)\n",
    "            data = data[:, 0]\n",
    "        \n",
    "            fft_data = np.fft.fft(data) \n",
    "            amplitude = np.abs(fft_data)\n",
    "    \n",
    "            n = len(data)\n",
    "            frequencies = np.fft.fftfreq(n, 1 / sample_rate)  \n",
    "                \n",
    "            central_index = np.argmax(amplitude)\n",
    "            norm = amplitude[central_index]\n",
    "                # print(central_index) CHECKING\n",
    "            \n",
    "            spliced_f=frequencies[(central_index-200):(central_index+1500)]\n",
    "            spliced_a=amplitude[(central_index-200):(central_index+1500)]\n",
    "            norm_a = spliced_a/norm\n",
    "            \n",
    "            arrays_violin.append(norm_a)\n",
    "\n",
    "    if allfiles.endswith('Flute.wav'):\n",
    "        if not allfiles.startswith('1_A'):\n",
    "            file_path = os.path.join(trimmed_path, allfiles)\n",
    "            sample_rate, data = wav.read(file_path)\n",
    "            data = data[:, 0]\n",
    "        \n",
    "            fft_data = np.fft.fft(data) \n",
    "            amplitude = np.abs(fft_data)\n",
    "    \n",
    "            n = len(data)\n",
    "            frequencies = np.fft.fftfreq(n, 1 / sample_rate)  \n",
    "                \n",
    "            central_index = np.argmax(amplitude)\n",
    "            norm = amplitude[central_index]\n",
    "                # print(central_index) CHECKING\n",
    "            \n",
    "            spliced_f=frequencies[(central_index-200):(central_index+1500)]\n",
    "            spliced_a=amplitude[(central_index-200):(central_index+1500)]\n",
    "            norm_a = spliced_a/norm\n",
    "            \n",
    "            arrays_flute.append(norm_a)\n",
    "            \n",
    "    if allfiles.endswith('Oboe.wav'):\n",
    "        if not allfiles.startswith('1_A'):\n",
    "            file_path = os.path.join(trimmed_path, allfiles)\n",
    "            sample_rate, data = wav.read(file_path)\n",
    "            data = data[:, 0]\n",
    "        \n",
    "            fft_data = np.fft.fft(data) \n",
    "            amplitude = np.abs(fft_data)\n",
    "    \n",
    "            n = len(data)\n",
    "            frequencies = np.fft.fftfreq(n, 1 / sample_rate)  \n",
    "                \n",
    "            central_index = np.argmax(amplitude)\n",
    "            norm = amplitude[central_index]\n",
    "                # print(central_index) CHECKING\n",
    "            \n",
    "            spliced_f=frequencies[(central_index-200):(central_index+1500)]\n",
    "            spliced_a=amplitude[(central_index-200):(central_index+1500)]\n",
    "            norm_a = spliced_a/norm\n",
    "            \n",
    "            arrays_oboe.append(norm_a)\n",
    "            \n",
    "means_cello = np.mean(arrays_cello, axis=0)\n",
    "means_violin = np.mean(arrays_violin, axis=0)\n",
    "means_flute = np.mean(arrays_flute, axis=0)\n",
    "means_oboe = np.mean(arrays_oboe, axis=0)\n",
    "\n",
    "peaks_cello,_ = ss.find_peaks(means_cello, prominence=0.05)\n",
    "peaks_violin,_ = ss.find_peaks(means_violin, prominence=0.05)\n",
    "peaks_flute,_ = ss.find_peaks(means_flute, prominence=0.05)\n",
    "peaks_oboe,_ = ss.find_peaks(means_oboe, prominence=0.05)\n",
    "\n",
    "print(peaks_cello)\n",
    "print(peaks_violin)\n",
    "print(peaks_flute)\n",
    "print(peaks_oboe)\n",
    "\n",
    "plt.plot(means_cello)\n",
    "plt.plot(means_violin)\n",
    "plt.plot(means_flute)\n",
    "plt.plot(means_oboe)\n",
    "\n",
    "plt.legend('cvfo')\n",
    "\n",
    "plt.xlim(40,1700)\n",
    "plt.ylim(0,0.2)\n",
    "plt.show()"
   ]
  },
  {
   "cell_type": "code",
   "execution_count": null,
   "id": "31ce3ffa-667d-4cc3-aa1d-7b936bf2e0eb",
   "metadata": {
    "scrolled": true
   },
   "outputs": [],
   "source": [
    "print(frequencies[:10])\n",
    "len(frequencies)\n",
    "print(frequencies[10:])\n",
    "frequencies>=0\n",
    "np.all(frequencies[:n//2] > 0)"
   ]
  },
  {
   "cell_type": "code",
   "execution_count": null,
   "id": "26083261-e764-495c-8192-ea3328f87eb2",
   "metadata": {},
   "outputs": [],
   "source": [
    "    # Y-values AMPLITUDE \n",
    "    fft_data = np.fft.fft(data) # FFT audio signal (time-domain data) [array of Y-values in complex numbers]\n",
    "    f\"{amplitude}_{allfiles}\" = np.abs(fft_data) # amplitude spectrum (gives the magnitude in positive Y-values)\n",
    "\n",
    "    # X-values CORRESPONDING FREQUENCIES\n",
    "    n = len(data)\n",
    "    f\"{frequencies}_{allfiles}\" = np.fft.fftfreq(n, 1 / sample_rate)  # window length, sample spacing = inverse of sample rate\n"
   ]
  },
  {
   "cell_type": "code",
   "execution_count": null,
   "id": "b731caa7-ab23-4841-9887-df0946639d5e",
   "metadata": {},
   "outputs": [],
   "source": [
    "plt.plot(frequencies)"
   ]
  },
  {
   "cell_type": "code",
   "execution_count": null,
   "id": "04d00e57-5e87-4fb6-b92b-e3bbd73d9b37",
   "metadata": {},
   "outputs": [],
   "source": [
    "plt.plot(fft_data)"
   ]
  },
  {
   "cell_type": "code",
   "execution_count": null,
   "id": "8a0d6c13-5191-4d9b-afec-fe46221e2ebb",
   "metadata": {},
   "outputs": [],
   "source": [
    "print('identified peaks are', frequencies[peak_indices])\n",
    "find_peaks(frequencies)"
   ]
  },
  {
   "cell_type": "code",
   "execution_count": null,
   "id": "f7871744-9ca0-40c8-8b46-e7577b5576d7",
   "metadata": {},
   "outputs": [],
   "source": []
  },
  {
   "cell_type": "code",
   "execution_count": null,
   "id": "319516aa-70e1-4f68-90e3-48341eb10fa8",
   "metadata": {},
   "outputs": [],
   "source": [
    "np.abs(1+1j)"
   ]
  },
  {
   "cell_type": "code",
   "execution_count": null,
   "id": "18439e0d-92fb-4271-a63a-462daaba4133",
   "metadata": {},
   "outputs": [],
   "source": [
    "np.sqrt(2)"
   ]
  },
  {
   "cell_type": "code",
   "execution_count": null,
   "id": "81c50649-afe4-46e0-8e60-d90651e9bb8d",
   "metadata": {},
   "outputs": [],
   "source": []
  },
  {
   "cell_type": "code",
   "execution_count": null,
   "id": "7c83b5b9-a0b1-46e7-b060-af5e0eb4e4b5",
   "metadata": {},
   "outputs": [],
   "source": [
    "print('testing 123')"
   ]
  },
  {
   "cell_type": "code",
   "execution_count": null,
   "id": "c557ec43-bccf-48b6-9cf6-e60459224580",
   "metadata": {},
   "outputs": [],
   "source": []
  }
 ],
 "metadata": {
  "kernelspec": {
   "display_name": "Python 3 (ipykernel)",
   "language": "python",
   "name": "python3"
  },
  "language_info": {
   "codemirror_mode": {
    "name": "ipython",
    "version": 3
   },
   "file_extension": ".py",
   "mimetype": "text/x-python",
   "name": "python",
   "nbconvert_exporter": "python",
   "pygments_lexer": "ipython3",
   "version": "3.12.3"
  }
 },
 "nbformat": 4,
 "nbformat_minor": 5
}
