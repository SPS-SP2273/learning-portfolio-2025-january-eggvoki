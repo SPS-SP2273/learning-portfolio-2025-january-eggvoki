{
 "cells": [
  {
   "cell_type": "code",
   "execution_count": 66,
   "id": "5ce7f759-0ba8-4ce5-af1d-c546e373e961",
   "metadata": {},
   "outputs": [],
   "source": [
    "import scipy.io.wavfile as wav"
   ]
  },
  {
   "cell_type": "code",
   "execution_count": 35,
   "id": "6cff8e7a-39f8-4240-8380-8bd060da772e",
   "metadata": {},
   "outputs": [],
   "source": [
    "rate, data = wav.read('sound_data/A-flute.wav')\n",
    "trimmed_data = data[:44100]  # Keep first 1 second\n",
    "wav.write('A-flute_1.wav', 44100, trimmed_data)"
   ]
  },
  {
   "cell_type": "code",
   "execution_count": 36,
   "id": "b2ae979b-5c03-4c44-8b1a-35138895ac2e",
   "metadata": {},
   "outputs": [
    {
     "name": "stdout",
     "output_type": "stream",
     "text": [
      "(44100, 2)\n"
     ]
    }
   ],
   "source": [
    "rate, data = wav.read('A-flute_1.wav')\n",
    "print(data.shape)"
   ]
  },
  {
   "cell_type": "code",
   "execution_count": 37,
   "id": "ed76e326-a7d5-47ca-8eef-c9f939b87903",
   "metadata": {},
   "outputs": [
    {
     "name": "stdout",
     "output_type": "stream",
     "text": [
      "Duration: 1.0 seconds\n"
     ]
    }
   ],
   "source": [
    "duration_seconds = len(data) / 44100\n",
    "print(f\"Duration: {duration_seconds} seconds\")"
   ]
  },
  {
   "cell_type": "markdown",
   "id": "63ddc626-6a34-4e35-9307-bd99858e4c3f",
   "metadata": {},
   "source": [
    "## LOOP TO TRIM"
   ]
  },
  {
   "cell_type": "code",
   "execution_count": 67,
   "id": "84b2a305-3ec2-42ff-8c6e-0bcfda66ed25",
   "metadata": {},
   "outputs": [
    {
     "name": "stdout",
     "output_type": "stream",
     "text": [
      "Trimmed A#-Flute.wav and saved as 1_A#-Flute.wav\n",
      "Trimmed A#-Oboe.wav and saved as 1_A#-Oboe.wav\n",
      "Trimmed A#-Violin.wav and saved as 1_A#-Violin.wav\n",
      "Trimmed A#-Violoncello.wav and saved as 1_A#-Violoncello.wav\n",
      "Trimmed A#.wav and saved as 1_A#.wav\n",
      "Trimmed A-Flute.wav and saved as 1_A-Flute.wav\n",
      "Trimmed A-Oboe.wav and saved as 1_A-Oboe.wav\n",
      "Trimmed A-Violin.wav and saved as 1_A-Violin.wav\n",
      "Trimmed A-Violoncello.wav and saved as 1_A-Violoncello.wav\n",
      "Trimmed A.wav and saved as 1_A.wav\n",
      "Trimmed B-Flute.wav and saved as 1_B-Flute.wav\n",
      "Trimmed B-Oboe.wav and saved as 1_B-Oboe.wav\n",
      "Trimmed B-Violin.wav and saved as 1_B-Violin.wav\n",
      "Trimmed B-Violoncello.wav and saved as 1_B-Violoncello.wav\n",
      "Trimmed B.wav and saved as 1_B.wav\n",
      "Trimmed C#-Flute.wav and saved as 1_C#-Flute.wav\n",
      "Trimmed C#-Oboe.wav and saved as 1_C#-Oboe.wav\n",
      "Trimmed C#-Violin.wav and saved as 1_C#-Violin.wav\n",
      "Trimmed C#-Violoncello.wav and saved as 1_C#-Violoncello.wav\n",
      "Trimmed C#.wav and saved as 1_C#.wav\n",
      "Trimmed C-Flute.wav and saved as 1_C-Flute.wav\n",
      "Trimmed C-Oboe.wav and saved as 1_C-Oboe.wav\n",
      "Trimmed C-Violin.wav and saved as 1_C-Violin.wav\n",
      "Trimmed C-Violoncello.wav and saved as 1_C-Violoncello.wav\n",
      "Trimmed C.wav and saved as 1_C.wav\n",
      "Trimmed D#-Flute.wav and saved as 1_D#-Flute.wav\n",
      "Trimmed D#-Oboe.wav and saved as 1_D#-Oboe.wav\n",
      "Trimmed D#-Violin.wav and saved as 1_D#-Violin.wav\n",
      "Trimmed D#-Violoncello.wav and saved as 1_D#-Violoncello.wav\n",
      "Trimmed D#.wav and saved as 1_D#.wav\n",
      "Trimmed D-Flute.wav and saved as 1_D-Flute.wav\n",
      "Trimmed D-Oboe.wav and saved as 1_D-Oboe.wav\n",
      "Trimmed D-Violin.wav and saved as 1_D-Violin.wav\n",
      "Trimmed D-Violoncello.wav and saved as 1_D-Violoncello.wav\n",
      "Trimmed D.wav and saved as 1_D.wav\n",
      "Trimmed E-Flute.wav and saved as 1_E-Flute.wav\n",
      "Trimmed E-Oboe.wav and saved as 1_E-Oboe.wav\n",
      "Trimmed E-Violin.wav and saved as 1_E-Violin.wav\n",
      "Trimmed E-Violoncello.wav and saved as 1_E-Violoncello.wav\n",
      "Trimmed E.wav and saved as 1_E.wav\n",
      "Trimmed F#-Flute.wav and saved as 1_F#-Flute.wav\n",
      "Trimmed F#-Oboe.wav and saved as 1_F#-Oboe.wav\n",
      "Trimmed F#-Violin.wav and saved as 1_F#-Violin.wav\n",
      "Trimmed F#-Violoncello.wav and saved as 1_F#-Violoncello.wav\n",
      "Trimmed F#.wav and saved as 1_F#.wav\n",
      "Trimmed F-Flute.wav and saved as 1_F-Flute.wav\n",
      "Trimmed F-Oboe.wav and saved as 1_F-Oboe.wav\n",
      "Trimmed F-Violin.wav and saved as 1_F-Violin.wav\n",
      "Trimmed F-Violoncello.wav and saved as 1_F-Violoncello.wav\n",
      "Trimmed F.wav and saved as 1_F.wav\n",
      "Trimmed G#-Flute.wav and saved as 1_G#-Flute.wav\n",
      "Trimmed G#-Oboe.wav and saved as 1_G#-Oboe.wav\n",
      "Trimmed G#-Violin.wav and saved as 1_G#-Violin.wav\n",
      "Trimmed G#-Violoncello.wav and saved as 1_G#-Violoncello.wav\n",
      "Trimmed G#.wav and saved as 1_G#.wav\n",
      "Trimmed G-Flute.wav and saved as 1_G-Flute.wav\n",
      "Trimmed G-Oboe.wav and saved as 1_G-Oboe.wav\n",
      "Trimmed G-Violin.wav and saved as 1_G-Violin.wav\n",
      "Trimmed G-Violoncello.wav and saved as 1_G-Violoncello.wav\n",
      "Trimmed G.wav and saved as 1_G.wav\n"
     ]
    }
   ],
   "source": [
    "import os\n",
    "\n",
    "folder_path = 'sound_data'\n",
    "os.makedirs('./trimmed_files')\n",
    "\n",
    "for filename in os.listdir(folder_path):\n",
    "    if filename.endswith('.wav'):\n",
    "        file_path = os.path.join(folder_path, filename)\n",
    "        sample_rate, data = wav.read(file_path)\n",
    "        trimmed_data = data[:44100]  # Slice the data array to the first second\n",
    "        trimmed_filename = f\"1_{filename}\"\n",
    "        trimmed_file_path = os.path.join('./trimmed_files', trimmed_filename)\n",
    "        wav.write(trimmed_file_path, sample_rate, trimmed_data)\n",
    "\n",
    "        print(f\"Trimmed {filename} and saved as {trimmed_filename}\")"
   ]
  },
  {
   "cell_type": "code",
   "execution_count": 96,
   "id": "b92fb064-3573-4419-85cd-f421f15b5518",
   "metadata": {},
   "outputs": [
    {
     "data": {
      "image/png": "[encoded data removed]",
      "text/plain": [
       "<Figure size 1000x600 with 1 Axes>"
      ]
     },
     "metadata": {},
     "output_type": "display_data"
    }
   ],
   "source": [
    "import numpy as np\n",
    "import matplotlib.pyplot as plt\n",
    "\n",
    "sample_rate, data = wav.read('trimmed_files/1_A-Violoncello.wav')\n",
    "\n",
    "# isolate channel 1\n",
    "data = data[:, 0]\n",
    "\n",
    "# FFT audio signal (time-domain data)\n",
    "fft_data = np.fft.fft(data)\n",
    "\n",
    "# amplitude spectrum (positive values)\n",
    "amplitude = np.abs(fft_data)\n",
    "\n",
    "# corresponding frequencies\n",
    "n = len(data)\n",
    "frequencies = np.fft.fftfreq(n, 1 / sample_rate)  # Frequency axis\n",
    "\n",
    "# Plot frequency spectrum\n",
    "plt.figure(figsize=(10, 6))\n",
    "plt.plot(frequencies[:n // 2], amplitude[:n // 2])  # Only plot positive frequencies\n",
    "plt.title('Frequency Spectrum of the Audio')\n",
    "plt.xlabel('Frequency (Hz)')\n",
    "plt.ylabel('Amplitude')\n",
    "plt.grid(True)\n",
    "plt.show()"
   ]
  },
  {
   "cell_type": "code",
   "execution_count": 97,
   "id": "8830582e-8c4f-4a58-bbb8-07ed68bbce32",
   "metadata": {},
   "outputs": [
    {
     "name": "stdout",
     "output_type": "stream",
     "text": [
      "Peak frequency: 878.0 Hz\n"
     ]
    }
   ],
   "source": [
    "# Step 5: Find the index of the peak frequency (maximum amplitude)\n",
    "positive_frequencies = frequencies[:len(frequencies)//2]\n",
    "positive_amplitude = amplitude[:len(amplitude)//2]\n",
    "\n",
    "peak_index = np.argmax(positive_amplitude)  # Find the index of max amplitude\n",
    "peak_frequency = positive_frequencies[peak_index]  # Get the corresponding frequency\n",
    "\n",
    "# Print the peak frequency\n",
    "print(f\"Peak frequency: {peak_frequency} Hz\")"
   ]
  },
  {
   "cell_type": "code",
   "execution_count": 149,
   "id": "413b3fa6-6c87-4ddf-9a2c-0ba6da348235",
   "metadata": {},
   "outputs": [
    {
     "data": {
      "text/plain": [
       "(array([  441,   878,  1319, 42781, 43222, 43659]),\n",
       " {'peak_heights': array([158.00149536, 221.14759827,  58.28505707,  58.28505707,\n",
       "         221.14759827, 158.00149536])})"
      ]
     },
     "execution_count": 149,
     "metadata": {},
     "output_type": "execute_result"
    }
   ],
   "source": [
    "find_peaks(amplitude, height=50,distance=50)"
   ]
  }
 ],
 "metadata": {
  "kernelspec": {
   "display_name": "Python 3 (ipykernel)",
   "language": "python",
   "name": "python3"
  },
  "language_info": {
   "codemirror_mode": {
    "name": "ipython",
    "version": 3
   },
   "file_extension": ".py",
   "mimetype": "text/x-python",
   "name": "python",
   "nbconvert_exporter": "python",
   "pygments_lexer": "ipython3",
   "version": "3.12.3"
  }
 },
 "nbformat": 4,
 "nbformat_minor": 5
}
