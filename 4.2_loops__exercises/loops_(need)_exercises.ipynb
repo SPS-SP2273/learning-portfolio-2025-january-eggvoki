{
 "cells": [
  {
   "attachments": {},
   "cell_type": "markdown",
   "id": "123456",
   "metadata": {},
   "source": [
    "<div style=\"text-align:left;font-size:2em\"><span style=\"font-weight:bolder;font-size:1.25em\">SP2273 | Learning Portfolio</span><br><br><span style=\"font-weight:bold;color:darkred\">Loops (Need) Exercises</span></div>"
   ]
  },
  {
   "cell_type": "markdown",
   "id": "bb8f97c9-9057-440a-9af0-9d3309c6964d",
   "metadata": {},
   "source": [
    "# Exercise 1 (Celsius to Fahrenheit)"
   ]
  },
  {
   "cell_type": "code",
   "execution_count": 1,
   "id": "396779f4-6b95-453a-b809-fa0a81f37618",
   "metadata": {},
   "outputs": [],
   "source": [
    "temperatures_celsius = [\n",
    "    0, 5, 10, 15, 20, 25,\n",
    "    30, 35, 40, 45, 50\n",
    "]"
   ]
  },
  {
   "cell_type": "code",
   "execution_count": 9,
   "id": "7b0efb48-fb4b-4e6e-a263-1ce90835e90f",
   "metadata": {},
   "outputs": [
    {
     "name": "stdout",
     "output_type": "stream",
     "text": [
      "0, 32.0\n",
      "5, 41.0\n",
      "10, 50.0\n",
      "15, 59.0\n",
      "20, 68.0\n",
      "25, 77.0\n",
      "30, 86.0\n",
      "35, 95.0\n",
      "40, 104.0\n",
      "45, 113.0\n",
      "50, 122.0\n"
     ]
    }
   ],
   "source": [
    "import numpy as np\n",
    "Celsius=np.array(temperatures_celsius)\n",
    "Fahrenheit=temperatures_celsius_array*9/5+32\n",
    "for c,f in zip(Celsius, Fahrenheit):\n",
    "    print(f'{c}, {f}')"
   ]
  },
  {
   "cell_type": "markdown",
   "id": "d384496b-d3cc-4f92-a96a-4a36a7c65e18",
   "metadata": {},
   "source": [
    "# Exercise 2 (Multiplication table)"
   ]
  },
  {
   "cell_type": "code",
   "execution_count": 10,
   "id": "fa3e680b-55ee-4ab2-ad0e-6e2a42b5edfc",
   "metadata": {},
   "outputs": [
    {
     "name": "stdout",
     "output_type": "stream",
     "text": [
      "A1\tA2\tA3\t\n",
      "\n",
      "B1\tB2\tB3\t\n",
      "\n",
      "C1\tC2\tC3\t\n",
      "\n"
     ]
    }
   ],
   "source": [
    "for letter in ['A','B','C']:\n",
    "    for number in [1,2,3]:\n",
    "        print(f'{letter}{number}', end='\\t')\n",
    "    print('\\n')"
   ]
  },
  {
   "cell_type": "code",
   "execution_count": 67,
   "id": "c4e17d4d-c7d2-4c54-bfaa-0de005e7f168",
   "metadata": {},
   "outputs": [
    {
     "name": "stdout",
     "output_type": "stream",
     "text": [
      "1 : 1   2   3   4   5   \n",
      "\n",
      "2 : 2   4   6   8   10  \n",
      "\n",
      "3 : 3   6   9   12  15  \n",
      "\n",
      "4 : 4   8   12  16  20  \n",
      "\n",
      "5 : 5   10  15  20  25  \n",
      "\n"
     ]
    }
   ],
   "source": [
    "for heading in [1,2,3,4,5]:\n",
    "    print(f'{heading} : ', end='')\n",
    "    for multiple in range(1,6):\n",
    "        print(f'{heading*multiple:<4}', end='')\n",
    "    print('\\n')"
   ]
  },
  {
   "cell_type": "markdown",
   "id": "94d74661-e0dd-43f9-a926-afc6c71aba24",
   "metadata": {},
   "source": [
    "# Exercise 3 (Simulating a Coin Flip Experiment)"
   ]
  },
  {
   "cell_type": "code",
   "execution_count": 31,
   "id": "0dd93777-9f8b-4bfa-8d35-0627f2afe0df",
   "metadata": {},
   "outputs": [
    {
     "data": {
      "text/plain": [
       "array([0.06804617, 0.26888899, 0.76359877, 0.8933933 , 0.05687232,\n",
       "       0.45200124, 0.93066204, 0.5959359 , 0.55018869, 0.86353722])"
      ]
     },
     "execution_count": 31,
     "metadata": {},
     "output_type": "execute_result"
    }
   ],
   "source": [
    "np.random.rand(10)"
   ]
  },
  {
   "cell_type": "code",
   "execution_count": 56,
   "id": "6fe7f177-9bb9-4d75-a968-fe77254b76b3",
   "metadata": {},
   "outputs": [
    {
     "name": "stdout",
     "output_type": "stream",
     "text": [
      "Experiment  1: No. of Heads = 6\n",
      "Experiment  2: No. of Heads = 7\n",
      "Experiment  3: No. of Heads = 6\n",
      "Experiment  4: No. of Heads = 3\n",
      "Experiment  5: No. of Heads = 4\n",
      "Experiment  6: No. of Heads = 4\n",
      "Experiment  7: No. of Heads = 6\n",
      "Experiment  8: No. of Heads = 6\n",
      "Experiment  9: No. of Heads = 5\n",
      "Experiment 10: No. of Heads = 5\n"
     ]
    }
   ],
   "source": [
    "for experiment in range(1,11):\n",
    "    coin_flips=np.random.rand(10) #Generate 10 random numbers between 0 and 1\n",
    "    number_of_heads=np.sum(coin_flips>0.5) #Count the number of heads (values > 0.5)\n",
    "    print(f'Experiment {experiment:>2}: No. of Heads = {number_of_heads}')"
   ]
  }
 ],
 "metadata": {
  "kernelspec": {
   "display_name": "Python 3 (ipykernel)",
   "language": "python",
   "name": "python3"
  },
  "language_info": {
   "codemirror_mode": {
    "name": "ipython",
    "version": 3
   },
   "file_extension": ".py",
   "mimetype": "text/x-python",
   "name": "python",
   "nbconvert_exporter": "python",
   "pygments_lexer": "ipython3",
   "version": "3.12.3"
  },
  "toc": {
   "base_numbering": 1,
   "nav_menu": {},
   "number_sections": true,
   "sideBar": true,
   "skip_h1_title": false,
   "title_cell": "Table of Contents",
   "title_sidebar": "Contents",
   "toc_cell": false,
   "toc_position": {},
   "toc_section_display": true,
   "toc_window_display": false
  },
  "vscode": {
   "interpreter": {
    "hash": "31f2aee4e71d21fbe5cf8b01ff0e069b9275f58929596ceb00d14d90e3e16cd6"
   }
  }
 },
 "nbformat": 4,
 "nbformat_minor": 5
}
