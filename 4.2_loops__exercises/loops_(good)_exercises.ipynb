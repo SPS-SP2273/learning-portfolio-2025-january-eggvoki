{
 "cells": [
  {
   "attachments": {},
   "cell_type": "markdown",
   "id": "123456",
   "metadata": {},
   "source": [
    "<div style=\"text-align:left;font-size:2em\"><span style=\"font-weight:bolder;font-size:1.25em\">SP2273 | Learning Portfolio</span><br><br><span style=\"font-weight:bold;color:darkred\">Loops (Good) Exercises</span></div>"
   ]
  },
  {
   "cell_type": "markdown",
   "id": "47035c21-2863-42da-a19f-ada6298c4762",
   "metadata": {},
   "source": [
    "# Exercise 1 (Make me an odd list)"
   ]
  },
  {
   "cell_type": "code",
   "execution_count": 8,
   "id": "0bd2b1d2-34ac-42da-96dc-c54b1e9d8710",
   "metadata": {},
   "outputs": [
    {
     "name": "stdout",
     "output_type": "stream",
     "text": [
      "1\n",
      "9\n",
      "25\n",
      "49\n",
      "81\n"
     ]
    }
   ],
   "source": [
    "for number in range(0,10):\n",
    "    if number %2 != 0:\n",
    "        print(number**2)\n",
    "        continue"
   ]
  },
  {
   "cell_type": "markdown",
   "id": "debe4831-d0b0-4292-bdd7-12cd18e7da71",
   "metadata": {},
   "source": [
    "# Exercise 2 (Make me another odd list)"
   ]
  },
  {
   "cell_type": "code",
   "execution_count": 10,
   "id": "829c4c39-7b17-4db2-bef2-305efe78ea14",
   "metadata": {},
   "outputs": [
    {
     "data": {
      "text/plain": [
       "[1, 9, 25, 49, 81]"
      ]
     },
     "execution_count": 10,
     "metadata": {},
     "output_type": "execute_result"
    }
   ],
   "source": [
    "[number**2 for number in range(0,10)if number %2 != 0]"
   ]
  },
  {
   "cell_type": "markdown",
   "id": "aa646b22-e545-4227-88f6-8dc5f2a3361a",
   "metadata": {},
   "source": [
    "# Exercise 3 (Time me!)"
   ]
  },
  {
   "cell_type": "code",
   "execution_count": 1,
   "id": "896ae6c9-1198-4007-ac86-89e4abf6a70e",
   "metadata": {},
   "outputs": [
    {
     "name": "stdout",
     "output_type": "stream",
     "text": [
      "946 ns ± 54.2 ns per loop (mean ± std. dev. of 7 runs, 1,000,000 loops each)\n"
     ]
    }
   ],
   "source": [
    "%%timeit\n",
    "for number in range(0,10):\n",
    "    if number %2 != 0:\n",
    "        #print(number**2)\n",
    "        continue"
   ]
  },
  {
   "cell_type": "code",
   "execution_count": 24,
   "id": "e36ac873-fa1f-4be7-9ce6-a42e66e8fc2d",
   "metadata": {},
   "outputs": [
    {
     "name": "stdout",
     "output_type": "stream",
     "text": [
      "1.67 μs ± 165 ns per loop (mean ± std. dev. of 7 runs, 100,000 loops each)\n"
     ]
    }
   ],
   "source": [
    "%timeit [number**2 for number in range(0,10)if number %2 != 0]"
   ]
  },
  {
   "cell_type": "markdown",
   "id": "710884b5-6618-4371-8c0e-6e32d8725feb",
   "metadata": {},
   "source": [
    "Exercise 2 is faster than exercise 1."
   ]
  },
  {
   "cell_type": "markdown",
   "id": "1a0bd8ea-5e26-411d-b914-c9a666b69e27",
   "metadata": {},
   "source": [
    "# Exercise 4 (A problem of decay)"
   ]
  },
  {
   "cell_type": "code",
   "execution_count": 20,
   "id": "47983f6c-c221-4ddd-aece-9dbc8d0bef9d",
   "metadata": {},
   "outputs": [
    {
     "name": "stdout",
     "output_type": "stream",
     "text": [
      "The sample will take 14 years to reduce to half its original amount.\n"
     ]
    }
   ],
   "source": [
    "# let x be the quantity of the sample\n",
    "x=100\n",
    "years=0 #Initialise a counter for the number of years\n",
    "while x>50:\n",
    "    x *= 0.95\n",
    "    years += 1 #Increase year by 1\n",
    "print(f'The sample will take {years} years to reduce to half its original amount.')"
   ]
  },
  {
   "cell_type": "markdown",
   "id": "aba61a69-4f84-437c-a6ff-b6f060783793",
   "metadata": {},
   "source": [
    "# Exercise 5 (Changes in CO<sub>2</sub>)"
   ]
  },
  {
   "cell_type": "code",
   "execution_count": 2,
   "id": "a91532d2-54c9-457b-934f-877edb13b4fe",
   "metadata": {},
   "outputs": [],
   "source": [
    "co2_data = [\n",
    "    (2000, 369.55), (2001, 371.14), (2002, 373.28), \n",
    "    (2003, 375.80), (2004, 377.52), (2005, 379.80), \n",
    "    (2006, 381.90), (2007, 383.79), (2008, 385.60), \n",
    "    (2009, 387.43), (2010, 389.90), (2011, 391.65), \n",
    "    (2012, 393.85), (2013, 396.52), (2014, 398.65),\n",
    "    (2015, 400.83), (2016, 404.24), (2017, 406.55), \n",
    "    (2018, 408.52), (2019, 411.44), (2020, 414.24)\n",
    "]"
   ]
  },
  {
   "cell_type": "code",
   "execution_count": 4,
   "id": "146ae1e1-a348-42ee-ba11-e586cb11738a",
   "metadata": {},
   "outputs": [
    {
     "name": "stdout",
     "output_type": "stream",
     "text": [
      "Year: 2016, Increase: 3.41 ppm\n"
     ]
    }
   ],
   "source": [
    "for i in range(1,len(co2_data)):\n",
    "    year=co2_data[i][0]\n",
    "    increase=co2_data[i][1]-co2_data[i-1][1]\n",
    "    if increase>=3:\n",
    "        print(f'Year: {year}, Increase: {increase:.2f} ppm')"
   ]
  }
 ],
 "metadata": {
  "kernelspec": {
   "display_name": "Python 3 (ipykernel)",
   "language": "python",
   "name": "python3"
  },
  "language_info": {
   "codemirror_mode": {
    "name": "ipython",
    "version": 3
   },
   "file_extension": ".py",
   "mimetype": "text/x-python",
   "name": "python",
   "nbconvert_exporter": "python",
   "pygments_lexer": "ipython3",
   "version": "3.12.3"
  },
  "toc": {
   "base_numbering": 1,
   "nav_menu": {},
   "number_sections": true,
   "sideBar": true,
   "skip_h1_title": false,
   "title_cell": "Table of Contents",
   "title_sidebar": "Contents",
   "toc_cell": false,
   "toc_position": {},
   "toc_section_display": true,
   "toc_window_display": false
  },
  "vscode": {
   "interpreter": {
    "hash": "31f2aee4e71d21fbe5cf8b01ff0e069b9275f58929596ceb00d14d90e3e16cd6"
   }
  }
 },
 "nbformat": 4,
 "nbformat_minor": 5
}
