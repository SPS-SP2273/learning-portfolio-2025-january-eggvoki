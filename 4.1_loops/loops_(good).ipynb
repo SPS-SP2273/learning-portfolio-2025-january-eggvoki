{
 "cells": [
  {
   "attachments": {},
   "cell_type": "markdown",
   "id": "123456",
   "metadata": {},
   "source": [
    "<div style=\"text-align:left;font-size:2em\"><span style=\"font-weight:bolder;font-size:1.25em\">SP2273 | Learning Portfolio</span><br><br><span style=\"font-weight:bold;color:darkred\">Loops (Good)</span></div>"
   ]
  },
  {
   "attachments": {},
   "cell_type": "markdown",
   "id": "0cc329f2",
   "metadata": {},
   "source": [
    "# What to expect in this chapter"
   ]
  },
  {
   "attachments": {},
   "cell_type": "markdown",
   "id": "992ef033",
   "metadata": {},
   "source": [
    "# 1 Interrupting the flow"
   ]
  },
  {
   "cell_type": "code",
   "execution_count": 1,
   "id": "95380b57-6d91-4f62-b09d-44f1b1d934ea",
   "metadata": {},
   "outputs": [
    {
     "name": "stdout",
     "output_type": "stream",
     "text": [
      "0 1\n",
      "1 10\n",
      "2 100\n",
      "3 1000\n"
     ]
    }
   ],
   "source": [
    "for power in range(5):\n",
    "    number=10**power\n",
    "    if number>5000:\n",
    "        break\n",
    "    print(power,number)"
   ]
  },
  {
   "cell_type": "code",
   "execution_count": 6,
   "id": "a4c0141c-94ef-4f80-a710-06acce7d9cd4",
   "metadata": {},
   "outputs": [
    {
     "name": "stdout",
     "output_type": "stream",
     "text": [
      "0 1\n",
      "1 10\n",
      "2 100\n",
      "4 10000\n"
     ]
    }
   ],
   "source": [
    "for power in range(5):\n",
    "    if power==3:\n",
    "        continue\n",
    "    number=10**power\n",
    "    print(power,number)"
   ]
  },
  {
   "cell_type": "code",
   "execution_count": 7,
   "id": "ab846090-2297-4fc3-9232-c1ca2648786b",
   "metadata": {},
   "outputs": [
    {
     "name": "stdout",
     "output_type": "stream",
     "text": [
      "1\n",
      "3\n",
      "5\n",
      "7\n",
      "9\n"
     ]
    }
   ],
   "source": [
    "for number in range(10):\n",
    "    if number%2==0:\n",
    "        continue\n",
    "    print(number)"
   ]
  },
  {
   "cell_type": "code",
   "execution_count": 8,
   "id": "98885ac1-9609-43f6-83e8-2f84ce6cd911",
   "metadata": {},
   "outputs": [
    {
     "name": "stdout",
     "output_type": "stream",
     "text": [
      "0\n",
      "1\n",
      "2\n",
      "3\n",
      "4\n"
     ]
    }
   ],
   "source": [
    "number=0\n",
    "while True:\n",
    "    print(number)\n",
    "    number+=1\n",
    "    if number>4:break"
   ]
  },
  {
   "attachments": {},
   "cell_type": "markdown",
   "id": "a9a65989",
   "metadata": {},
   "source": [
    "# 2 List comprehension!"
   ]
  },
  {
   "attachments": {},
   "cell_type": "markdown",
   "id": "4ec4e1d1",
   "metadata": {},
   "source": [
    "## 2.1 Basic syntax"
   ]
  },
  {
   "cell_type": "code",
   "execution_count": 9,
   "id": "65e1f617-7808-4d4c-8845-976a489021a3",
   "metadata": {},
   "outputs": [
    {
     "data": {
      "text/plain": [
       "[0, 1, 2, 3, 4]"
      ]
     },
     "execution_count": 9,
     "metadata": {},
     "output_type": "execute_result"
    }
   ],
   "source": [
    "[number for number in range(5)]"
   ]
  },
  {
   "cell_type": "code",
   "execution_count": 10,
   "id": "1f3f4197-0a98-4a1a-8057-e93b784bd191",
   "metadata": {},
   "outputs": [
    {
     "data": {
      "text/plain": [
       "[0, 1, 4, 9, 16]"
      ]
     },
     "execution_count": 10,
     "metadata": {},
     "output_type": "execute_result"
    }
   ],
   "source": [
    "[number**2 for number in range(5)]"
   ]
  },
  {
   "attachments": {},
   "cell_type": "markdown",
   "id": "9a282e7c",
   "metadata": {},
   "source": [
    "## 2.2 List comprehension with conditions"
   ]
  },
  {
   "cell_type": "code",
   "execution_count": 13,
   "id": "17fffa2a-622d-4f02-8817-280bec8d93cd",
   "metadata": {},
   "outputs": [
    {
     "data": {
      "text/plain": [
       "[0, 2, 4, 6, 8]"
      ]
     },
     "execution_count": 13,
     "metadata": {},
     "output_type": "execute_result"
    }
   ],
   "source": [
    "[number for number in range(10) if number%2==0]"
   ]
  },
  {
   "attachments": {},
   "cell_type": "markdown",
   "id": "45740e1b",
   "metadata": {},
   "source": [
    "# 3 Other useful stuff"
   ]
  },
  {
   "attachments": {},
   "cell_type": "markdown",
   "id": "dcbf1042",
   "metadata": {},
   "source": [
    "## 3.1 for with unpacking"
   ]
  },
  {
   "cell_type": "code",
   "execution_count": 14,
   "id": "13e284d0-df88-403c-b82e-9139d9cecfa5",
   "metadata": {},
   "outputs": [
    {
     "name": "stdout",
     "output_type": "stream",
     "text": [
      "x=1,y=2,z=3\n"
     ]
    }
   ],
   "source": [
    "x,y,z=[1,2,3]\n",
    "print(f'x={x},y={y},z={z}')"
   ]
  },
  {
   "cell_type": "code",
   "execution_count": 23,
   "id": "ae6ff7f8-011f-4fd0-8db9-974bc7442114",
   "metadata": {},
   "outputs": [
    {
     "name": "stdout",
     "output_type": "stream",
     "text": [
      "Natasha Romanoff is Marvel's Black Widow!\n",
      "Tony Stark is Marvel's Iron Man!\n",
      "Stephen Strange is Marvel's Doctor Strange!\n"
     ]
    }
   ],
   "source": [
    "py_superhero_info=[['Natasha Romanoff','Black Widow'],\n",
    "                  ['Tony Stark','Iron Man'],\n",
    "                  ['Stephen Strange','Doctor Strange']]\n",
    "for real_name, super_name in py_superhero_info:\n",
    "    print(f'{real_name} is Marvel\\'s {super_name}!')"
   ]
  },
  {
   "attachments": {},
   "cell_type": "markdown",
   "id": "39b1f3c6",
   "metadata": {},
   "source": [
    "## 3.2 for with zip()"
   ]
  },
  {
   "cell_type": "code",
   "execution_count": 24,
   "id": "ed9d67fc-6c2f-41be-8ba2-e2edc665cecb",
   "metadata": {},
   "outputs": [
    {
     "name": "stdout",
     "output_type": "stream",
     "text": [
      "Natasha Romanoff is Marvel's Black Widow!\n",
      "Tony Stark is Marvel's Iron Man!\n",
      "Stephen Strange is Marvel's Doctor Strange!\n"
     ]
    }
   ],
   "source": [
    "super_names=['Black Widow','Iron Man','Doctor Strange']\n",
    "real_names=['Natasha Romanoff','Tony Stark','Stephen Strange']\n",
    "\n",
    "for real_name, super_name in zip(real_names,super_names):\n",
    "    print(f'{real_name} is Marvel\\'s {super_name}!')"
   ]
  },
  {
   "attachments": {},
   "cell_type": "markdown",
   "id": "f1d90062",
   "metadata": {},
   "source": [
    "## 3.3 for with dictionaries"
   ]
  },
  {
   "cell_type": "code",
   "execution_count": 26,
   "id": "4215adae-b04f-423f-9b7a-fc40f8e99022",
   "metadata": {},
   "outputs": [
    {
     "name": "stdout",
     "output_type": "stream",
     "text": [
      "Natasha Romanoff is Marvel's Black Widow!\n",
      "Tony Stark is Marvel's Iron Man!\n",
      "Stephen Strange is Marvel's Doctor Strange!\n"
     ]
    }
   ],
   "source": [
    "superhero_info={'Natasha Romanoff':'Black Widow',\n",
    "               'Tony Stark':'Iron Man',\n",
    "               'Stephen Strange':'Doctor Strange'}\n",
    "\n",
    "for key,value in superhero_info.items():\n",
    "    print(f'{key} is Marvel\\'s {value}!')"
   ]
  },
  {
   "cell_type": "code",
   "execution_count": 27,
   "id": "6af96757-5ac8-41b8-bfd5-f1f2d172c77d",
   "metadata": {},
   "outputs": [
    {
     "name": "stdout",
     "output_type": "stream",
     "text": [
      "Natasha Romanoff is Marvel's Black Widow!\n",
      "Tony Stark is Marvel's Iron Man!\n",
      "Stephen Strange is Marvel's Doctor Strange!\n"
     ]
    }
   ],
   "source": [
    "for key in superhero_info.keys():\n",
    "    value=superhero_info[key]\n",
    "    print(f'{key} is Marvel\\'s {value}!')"
   ]
  },
  {
   "attachments": {},
   "cell_type": "markdown",
   "id": "f631ad8a",
   "metadata": {},
   "source": [
    "## Footnotes"
   ]
  }
 ],
 "metadata": {
  "kernelspec": {
   "display_name": "Python 3 (ipykernel)",
   "language": "python",
   "name": "python3"
  },
  "language_info": {
   "codemirror_mode": {
    "name": "ipython",
    "version": 3
   },
   "file_extension": ".py",
   "mimetype": "text/x-python",
   "name": "python",
   "nbconvert_exporter": "python",
   "pygments_lexer": "ipython3",
   "version": "3.12.3"
  },
  "toc": {
   "base_numbering": 1,
   "nav_menu": {},
   "number_sections": true,
   "sideBar": true,
   "skip_h1_title": false,
   "title_cell": "Table of Contents",
   "title_sidebar": "Contents",
   "toc_cell": false,
   "toc_position": {},
   "toc_section_display": true,
   "toc_window_display": false
  },
  "vscode": {
   "interpreter": {
    "hash": "31f2aee4e71d21fbe5cf8b01ff0e069b9275f58929596ceb00d14d90e3e16cd6"
   }
  }
 },
 "nbformat": 4,
 "nbformat_minor": 5
}
