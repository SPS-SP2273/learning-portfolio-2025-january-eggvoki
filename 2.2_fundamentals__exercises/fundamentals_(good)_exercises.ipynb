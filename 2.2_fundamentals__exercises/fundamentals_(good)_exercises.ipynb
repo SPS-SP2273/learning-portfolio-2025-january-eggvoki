{
 "cells": [
  {
   "attachments": {},
   "cell_type": "markdown",
   "id": "123456",
   "metadata": {},
   "source": [
    "<div style=\"text-align:left;font-size:2em\"><span style=\"font-weight:bolder;font-size:1.25em\">SP2273 | Learning Portfolio</span><br><br><span style=\"font-weight:bold;color:darkred\">Fundamentals (Good) Exercises</span></div>"
   ]
  },
  {
   "cell_type": "markdown",
   "id": "eeacd795-c071-4a99-91a7-0418650b761d",
   "metadata": {},
   "source": [
    "# Exercise 1 (f-strings to the rescue)"
   ]
  },
  {
   "cell_type": "markdown",
   "id": "81a19280-f4d6-44f0-b328-633ca1b0280a",
   "metadata": {},
   "source": [
    "## Task 1"
   ]
  },
  {
   "cell_type": "code",
   "execution_count": 12,
   "id": "6fef35a9-5b83-4458-b20d-f56494c028a5",
   "metadata": {},
   "outputs": [
    {
     "name": "stdin",
     "output_type": "stream",
     "text": [
      "Please provide me with your name? NAME\n"
     ]
    },
    {
     "name": "stdout",
     "output_type": "stream",
     "text": [
      "How you doin NAME!\n"
     ]
    }
   ],
   "source": [
    "user_name=input('Please provide me with your name?')\n",
    "print(f'How you doin {user_name}!')"
   ]
  },
  {
   "cell_type": "markdown",
   "id": "ba8dd345-61f0-422a-91c1-cb06323b6215",
   "metadata": {},
   "source": [
    "## Task 2"
   ]
  },
  {
   "cell_type": "code",
   "execution_count": 6,
   "id": "61590e5d-e6a9-441f-85e9-f1376d1b4140",
   "metadata": {},
   "outputs": [
    {
     "name": "stdin",
     "output_type": "stream",
     "text": [
      "Please provide me with your age? AGE\n"
     ]
    },
    {
     "name": "stdout",
     "output_type": "stream",
     "text": [
      "My name is NAME and I am AGE years old.\n"
     ]
    }
   ],
   "source": [
    "user_age=input('Please provide me with your age?')\n",
    "print(f'My name is {user_name} and I am {user_age} years old.')\n"
   ]
  },
  {
   "cell_type": "markdown",
   "id": "03cd9353-0eef-4880-a217-105fe5c7b14f",
   "metadata": {},
   "source": [
    "## Task 3"
   ]
  },
  {
   "cell_type": "code",
   "execution_count": 8,
   "id": "c579861f-8c95-4e6c-a93c-8e37664c91c0",
   "metadata": {},
   "outputs": [
    {
     "name": "stdout",
     "output_type": "stream",
     "text": [
      "The value of pi to 2 decimal places is 3.14\n",
      "The value of pi to 3 decimal places is 3.142\n",
      "The value of pi to 4 decimal places is 3.1416\n"
     ]
    }
   ],
   "source": [
    "pi=3.141592653589793\n",
    "print(f'The value of pi to 2 decimal places is {pi:.2f}')\n",
    "print(f'The value of pi to 3 decimal places is {pi:.3f}')\n",
    "print(f'The value of pi to 4 decimal places is {pi:.4f}')"
   ]
  },
  {
   "cell_type": "markdown",
   "id": "71783291-8bd0-4b31-8c28-3f7b8d4cdce5",
   "metadata": {},
   "source": [
    "## Task 4"
   ]
  },
  {
   "cell_type": "code",
   "execution_count": 9,
   "id": "e5bba695-214d-444f-93f9-7379ab2c7082",
   "metadata": {},
   "outputs": [
    {
     "name": "stdout",
     "output_type": "stream",
     "text": [
      "Apple     $0.99\n",
      "Banana    $0.59\n",
      "Orange    $1.29\n"
     ]
    }
   ],
   "source": [
    "print(f'{'Apple':<10}'+f'{'$0.99':>5}')\n",
    "print(f'{'Banana':<10}'+f'{'$0.59':>5}')\n",
    "print(f'{'Orange':<10}'+f'{'$1.29':>5}')"
   ]
  },
  {
   "cell_type": "markdown",
   "id": "5ed0b7dd-8cc2-47c9-9158-647d7255e342",
   "metadata": {},
   "source": [
    "# Exercise 2 (What is your grade?)"
   ]
  },
  {
   "cell_type": "code",
   "execution_count": 13,
   "id": "1acc4e3d-941b-48af-8be4-a35668970325",
   "metadata": {},
   "outputs": [
    {
     "name": "stdin",
     "output_type": "stream",
     "text": [
      "Enter the student's score: 85\n"
     ]
    },
    {
     "name": "stdout",
     "output_type": "stream",
     "text": [
      "The student's letter grade is: A\n"
     ]
    }
   ],
   "source": [
    "student_score=input('Enter the student\\'s score:')\n",
    "\n",
    "# Convert the input from str to int\n",
    "student_score=int(student_score)\n",
    "\n",
    "if 70<=student_score<=100:\n",
    "    grade='A'\n",
    "elif 50<=student_score<=69:\n",
    "    grade='B'\n",
    "elif 35<=student_score<=49:\n",
    "    grade='C'\n",
    "elif 0<=student_score<=34:\n",
    "    grade='Fail'\n",
    "else:\n",
    "    print('Error: The score must be between 0 and 100')\n",
    "    grade=None\n",
    "\n",
    "print(f'The student\\'s letter grade is: {grade}')\n"
   ]
  },
  {
   "cell_type": "markdown",
   "id": "3ca72e98-44d8-4dc5-8dae-3fecf0de3864",
   "metadata": {},
   "source": [
    "# Exercise 3 (Debugging Code)"
   ]
  },
  {
   "cell_type": "code",
   "execution_count": 11,
   "id": "33364b8e-3a0d-4846-adfe-7b70d8ca1fa1",
   "metadata": {},
   "outputs": [
    {
     "name": "stdout",
     "output_type": "stream",
     "text": [
      "120\n",
      "Invalid input\n"
     ]
    }
   ],
   "source": [
    "def factorial(n):\n",
    "    if n < 0:\n",
    "        return \"Invalid input\"\n",
    "    elif n == 0:\n",
    "        return 1\n",
    "    else:\n",
    "        result = 1\n",
    "        for number in range(n,0,-1):\n",
    "            result *= number\n",
    "        return result\n",
    "\n",
    "\n",
    "print(factorial(5))   # Testing, expected output: 120\n",
    "print(factorial(-1))  # Testing, expected output: Invalid input"
   ]
  }
 ],
 "metadata": {
  "kernelspec": {
   "display_name": "Python 3 (ipykernel)",
   "language": "python",
   "name": "python3"
  },
  "language_info": {
   "codemirror_mode": {
    "name": "ipython",
    "version": 3
   },
   "file_extension": ".py",
   "mimetype": "text/x-python",
   "name": "python",
   "nbconvert_exporter": "python",
   "pygments_lexer": "ipython3",
   "version": "3.12.3"
  },
  "toc": {
   "base_numbering": 1,
   "nav_menu": {},
   "number_sections": true,
   "sideBar": true,
   "skip_h1_title": false,
   "title_cell": "Table of Contents",
   "title_sidebar": "Contents",
   "toc_cell": false,
   "toc_position": {},
   "toc_section_display": true,
   "toc_window_display": false
  },
  "vscode": {
   "interpreter": {
    "hash": "31f2aee4e71d21fbe5cf8b01ff0e069b9275f58929596ceb00d14d90e3e16cd6"
   }
  }
 },
 "nbformat": 4,
 "nbformat_minor": 5
}
