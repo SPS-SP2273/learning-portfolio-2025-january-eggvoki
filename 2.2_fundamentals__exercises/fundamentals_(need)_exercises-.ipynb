{
 "cells": [
  {
   "attachments": {},
   "cell_type": "markdown",
   "id": "123456",
   "metadata": {},
   "source": [
    "<div style=\"text-align:left;font-size:2em\"><span style=\"font-weight:bolder;font-size:1.25em\">SP2273 | Learning Portfolio</span><br><br><span style=\"font-weight:bold;color:darkred\">Fundamentals (Need) Exercises</span></div>"
   ]
  },
  {
   "cell_type": "markdown",
   "id": "a4aa4cf8-8651-4c81-9a57-51a847277b85",
   "metadata": {},
   "source": [
    "# Exercise 1 (Total recall?)"
   ]
  },
  {
   "cell_type": "markdown",
   "id": "e41b0018-1698-4904-8387-e7982cf26f56",
   "metadata": {},
   "source": [
    "## Functions and comments"
   ]
  },
  {
   "cell_type": "code",
   "execution_count": 2,
   "id": "30189988-715e-482e-8992-6a18b885c548",
   "metadata": {},
   "outputs": [
    {
     "name": "stdout",
     "output_type": "stream",
     "text": [
      "Hello World\n"
     ]
    }
   ],
   "source": [
    "\n",
    "# This is a comment\n",
    "print('Hello World')"
   ]
  },
  {
   "cell_type": "markdown",
   "id": "93842fcc-1968-41b8-b19d-5d8e5bb3d221",
   "metadata": {},
   "source": [
    "## *Python is interpreted*"
   ]
  },
  {
   "cell_type": "code",
   "execution_count": 32,
   "id": "91adb4d5-84cf-4e7c-8f25-16ada92879dd",
   "metadata": {},
   "outputs": [
    {
     "name": "stdout",
     "output_type": "stream",
     "text": [
      "Hello World\n",
      "Hello World again\n"
     ]
    }
   ],
   "source": [
    "print('Hello World')\n",
    "print('Hello World again')"
   ]
  },
  {
   "cell_type": "markdown",
   "id": "948ebbab-2a15-49a6-a0a9-88c256f72034",
   "metadata": {},
   "source": [
    "## Python is sensitive"
   ]
  },
  {
   "cell_type": "code",
   "execution_count": 33,
   "id": "1f172f46-674a-4b24-8e9e-8e5d713605b0",
   "metadata": {},
   "outputs": [
    {
     "name": "stdout",
     "output_type": "stream",
     "text": [
      "Hello World\n"
     ]
    },
    {
     "ename": "NameError",
     "evalue": "name 'Print' is not defined",
     "output_type": "error",
     "traceback": [
      "\u001b[1;31m---------------------------------------------------------------------------\u001b[0m",
      "\u001b[1;31mNameError\u001b[0m                                 Traceback (most recent call last)",
      "Cell \u001b[1;32mIn[33], line 2\u001b[0m\n\u001b[0;32m      1\u001b[0m \u001b[38;5;28mprint\u001b[39m(\u001b[38;5;124m'\u001b[39m\u001b[38;5;124mHello World\u001b[39m\u001b[38;5;124m'\u001b[39m)\n\u001b[1;32m----> 2\u001b[0m \u001b[43mPrint\u001b[49m(\u001b[38;5;124m'\u001b[39m\u001b[38;5;124mHello World\u001b[39m\u001b[38;5;124m'\u001b[39m)\n",
      "\u001b[1;31mNameError\u001b[0m: name 'Print' is not defined"
     ]
    }
   ],
   "source": [
    "print('Hello World')\n",
    "Print('Hello World')"
   ]
  },
  {
   "cell_type": "markdown",
   "id": "51012d9d-48da-47cd-a83e-69fc6a02040b",
   "metadata": {},
   "source": [
    "## = vs ==, indentations, if elif else"
   ]
  },
  {
   "cell_type": "code",
   "execution_count": 4,
   "id": "469f90d0-f404-42a2-aa1b-d4fd207270c8",
   "metadata": {},
   "outputs": [
    {
     "name": "stdout",
     "output_type": "stream",
     "text": [
      "too big\n"
     ]
    }
   ],
   "source": [
    "# Indentations\n",
    "x=10\n",
    "if x<5:\n",
    "    print('too small')\n",
    "elif x==5: \n",
    "    print('just nice')\n",
    "else:\n",
    "    print('too big')"
   ]
  },
  {
   "cell_type": "markdown",
   "id": "18d12152-af37-4d2e-9a67-27fdb99c4c2d",
   "metadata": {},
   "source": [
    "## *English vs variable*"
   ]
  },
  {
   "cell_type": "code",
   "execution_count": 65,
   "id": "b5fa404b-bd67-4ad5-8406-d2b40bc82b55",
   "metadata": {},
   "outputs": [
    {
     "name": "stdout",
     "output_type": "stream",
     "text": [
      "20\n",
      "age\n"
     ]
    }
   ],
   "source": [
    "age=20\n",
    "print(age)\n",
    "print('age')"
   ]
  },
  {
   "cell_type": "markdown",
   "id": "79ab7653-e350-4ab8-98d9-c1fb97d97b35",
   "metadata": {},
   "source": [
    "## Math and numpy"
   ]
  },
  {
   "cell_type": "code",
   "execution_count": 38,
   "id": "8764482d-bfa0-4a45-97e3-977653fc7306",
   "metadata": {},
   "outputs": [
    {
     "data": {
      "text/plain": [
       "40.5"
      ]
     },
     "execution_count": 38,
     "metadata": {},
     "output_type": "execute_result"
    }
   ],
   "source": [
    "1*((2-3)+4)**5/6"
   ]
  },
  {
   "cell_type": "code",
   "execution_count": 36,
   "id": "242fee55-9b4e-4850-99f4-9b188d87370a",
   "metadata": {},
   "outputs": [
    {
     "ename": "NameError",
     "evalue": "name 'pi' is not defined",
     "output_type": "error",
     "traceback": [
      "\u001b[1;31m---------------------------------------------------------------------------\u001b[0m",
      "\u001b[1;31mNameError\u001b[0m                                 Traceback (most recent call last)",
      "Cell \u001b[1;32mIn[36], line 1\u001b[0m\n\u001b[1;32m----> 1\u001b[0m \u001b[38;5;28mprint\u001b[39m(\u001b[43mpi\u001b[49m)\n",
      "\u001b[1;31mNameError\u001b[0m: name 'pi' is not defined"
     ]
    }
   ],
   "source": [
    "print(pi)"
   ]
  },
  {
   "cell_type": "code",
   "execution_count": 5,
   "id": "30ae0f3f-76c2-49ba-986a-8f12fe8b1df2",
   "metadata": {},
   "outputs": [
    {
     "name": "stdout",
     "output_type": "stream",
     "text": [
      "3.141592653589793\n"
     ]
    }
   ],
   "source": [
    "# This are the packages\n",
    "import math\n",
    "print(math.pi)"
   ]
  },
  {
   "cell_type": "code",
   "execution_count": 6,
   "id": "9c4d27c2-f8b4-47f2-90bf-c12c8deea4e9",
   "metadata": {},
   "outputs": [
    {
     "data": {
      "text/plain": [
       "np.float64(2.0)"
      ]
     },
     "execution_count": 6,
     "metadata": {},
     "output_type": "execute_result"
    }
   ],
   "source": [
    "import numpy as np\n",
    "np.sqrt(4)"
   ]
  },
  {
   "cell_type": "code",
   "execution_count": 37,
   "id": "d9318da4-1fd3-4cf0-9269-31354bd2d721",
   "metadata": {},
   "outputs": [
    {
     "data": {
      "text/plain": [
       "array([2., 3., 4.])"
      ]
     },
     "execution_count": 37,
     "metadata": {},
     "output_type": "execute_result"
    }
   ],
   "source": [
    "np.sqrt([4,9,16])"
   ]
  },
  {
   "cell_type": "markdown",
   "id": "dc023981-9134-4871-9b9c-8fd1a639fc48",
   "metadata": {},
   "source": [
    "## *. the dot*"
   ]
  },
  {
   "cell_type": "code",
   "execution_count": 39,
   "id": "8f3e6c8b-e1b8-4307-977a-f3ee769c0fa2",
   "metadata": {},
   "outputs": [
    {
     "data": {
      "text/plain": [
       "['I', 'love', 'apples']"
      ]
     },
     "execution_count": 39,
     "metadata": {},
     "output_type": "execute_result"
    }
   ],
   "source": [
    "'I love apples'.split()"
   ]
  },
  {
   "cell_type": "code",
   "execution_count": 40,
   "id": "992675a1-d3c3-43d3-9ffa-cef9c71cadd7",
   "metadata": {},
   "outputs": [
    {
     "ename": "SyntaxError",
     "evalue": "invalid decimal literal (3897031440.py, line 1)",
     "output_type": "error",
     "traceback": [
      "\u001b[1;36m  Cell \u001b[1;32mIn[40], line 1\u001b[1;36m\u001b[0m\n\u001b[1;33m    1234.split()\u001b[0m\n\u001b[1;37m        ^\u001b[0m\n\u001b[1;31mSyntaxError\u001b[0m\u001b[1;31m:\u001b[0m invalid decimal literal\n"
     ]
    }
   ],
   "source": [
    "1234.split()"
   ]
  },
  {
   "cell_type": "code",
   "execution_count": 42,
   "id": "aafbcffc-a3ce-42af-813d-65a509d328e1",
   "metadata": {},
   "outputs": [
    {
     "data": {
      "text/plain": [
       "2.0"
      ]
     },
     "execution_count": 42,
     "metadata": {},
     "output_type": "execute_result"
    }
   ],
   "source": [
    "math.sqrt(4)\n"
   ]
  },
  {
   "cell_type": "code",
   "execution_count": 43,
   "id": "82e5af7a-567d-4fea-a9b0-69aeff0b5509",
   "metadata": {},
   "outputs": [
    {
     "data": {
      "text/plain": [
       "np.float64(2.0)"
      ]
     },
     "execution_count": 43,
     "metadata": {},
     "output_type": "execute_result"
    }
   ],
   "source": [
    "np.sqrt(4)"
   ]
  },
  {
   "cell_type": "markdown",
   "id": "cf71928b-24ae-4f05-8e24-d163ab41e324",
   "metadata": {},
   "source": [
    "## Lists and *brackets*"
   ]
  },
  {
   "cell_type": "code",
   "execution_count": null,
   "id": "8987464b-da77-4bb2-9dff-c85a37cbe27a",
   "metadata": {},
   "outputs": [],
   "source": [
    "# This is a list\n",
    "my_house=['bedroom','bathroom','kitchen']\n"
   ]
  },
  {
   "cell_type": "code",
   "execution_count": 60,
   "id": "c8ae2c06-a9fe-4a51-a031-7ef403b34853",
   "metadata": {},
   "outputs": [],
   "source": [
    "# This is a 2D list\n",
    "my_school=[['Science','Frontier'],['Arts','Deck'],['Utown','Flavours']]"
   ]
  },
  {
   "cell_type": "markdown",
   "id": "618e1cf8-2ec7-463e-acc3-24e05bf3816d",
   "metadata": {},
   "source": [
    "## Dictionary and *brackets*"
   ]
  },
  {
   "cell_type": "code",
   "execution_count": 15,
   "id": "6ba1c434-e2cd-4678-b052-1ce6ee8509a2",
   "metadata": {},
   "outputs": [
    {
     "name": "stdout",
     "output_type": "stream",
     "text": [
      "16\n"
     ]
    }
   ],
   "source": [
    "# This is a dictionary\n",
    "my_house_area={'bedroom':32,\n",
    "              'bathroom':16,\n",
    "              'kitchen':40}\n",
    "print(my_house_area['bathroom'])"
   ]
  },
  {
   "cell_type": "markdown",
   "id": "1e64a877-669e-416a-afbe-2b4e6c5dbc2a",
   "metadata": {},
   "source": [
    "# Exercise 2 (Debug me)"
   ]
  },
  {
   "cell_type": "code",
   "execution_count": 53,
   "id": "6ac06ecd-1ffa-4579-bd21-4bba4b3a85c1",
   "metadata": {},
   "outputs": [
    {
     "name": "stdout",
     "output_type": "stream",
     "text": [
      "3 4 5\n"
     ]
    }
   ],
   "source": [
    "x,y=3,4\n",
    "import math\n",
    "z=math.sqrt(x**2+y**2)\n",
    "z=int(z)\n",
    "print(x,y,z)"
   ]
  },
  {
   "cell_type": "markdown",
   "id": "11ba3f0d-60a4-4fa5-87ac-e573eaea2a70",
   "metadata": {},
   "source": [
    "# Exercise 3 (In your own words)"
   ]
  },
  {
   "cell_type": "markdown",
   "id": "8e55e6aa-852b-4bca-b16b-f875a3f77aaa",
   "metadata": {},
   "source": [
    "|**#**|**Term**|**Description**|\n",
    "|:-|:-|-|\n",
    "|1|Function|Does a specific task|\n",
    "|2|Arguments|Input into the function|\n",
    "|3|Comments|Additional information to tell people what you are doing|\n",
    "|4|Indentations|For if elif else function|\n",
    "|5|Packages|Additional functions that python do not have|\n",
    "|6|.|Indicates ownership to the package|\n",
    "|7|:|Tells python what to do if the answer is True and if the answer is False|\n",
    "|8|[]|List|\n",
    "|9|[[],[]]|Lists in list. 2D list|\n",
    "|10|{}|Dictionary|"
   ]
  },
  {
   "cell_type": "markdown",
   "id": "925f274d-8706-407e-8d5a-9f9207a6d576",
   "metadata": {},
   "source": [
    "# Exercise 4 (More than one way to divide)"
   ]
  },
  {
   "cell_type": "code",
   "execution_count": 64,
   "id": "c7c08430-e4df-417e-bc9d-4681d19161e9",
   "metadata": {},
   "outputs": [
    {
     "data": {
      "text/plain": [
       "1"
      ]
     },
     "execution_count": 64,
     "metadata": {},
     "output_type": "execute_result"
    }
   ],
   "source": [
    "\n",
    "5/2  # Divide 5 by 2 to get 2.5\n",
    "5//2 # Rounds the answer down to nearest integer. So 2.5 round down to 2\n",
    "5%2  # Remainder when 5 divide by 2 which is 1"
   ]
  }
 ],
 "metadata": {
  "kernelspec": {
   "display_name": "Python 3 (ipykernel)",
   "language": "python",
   "name": "python3"
  },
  "language_info": {
   "codemirror_mode": {
    "name": "ipython",
    "version": 3
   },
   "file_extension": ".py",
   "mimetype": "text/x-python",
   "name": "python",
   "nbconvert_exporter": "python",
   "pygments_lexer": "ipython3",
   "version": "3.12.3"
  },
  "toc": {
   "base_numbering": 1,
   "nav_menu": {},
   "number_sections": true,
   "sideBar": true,
   "skip_h1_title": false,
   "title_cell": "Table of Contents",
   "title_sidebar": "Contents",
   "toc_cell": false,
   "toc_position": {},
   "toc_section_display": true,
   "toc_window_display": false
  },
  "vscode": {
   "interpreter": {
    "hash": "31f2aee4e71d21fbe5cf8b01ff0e069b9275f58929596ceb00d14d90e3e16cd6"
   }
  }
 },
 "nbformat": 4,
 "nbformat_minor": 5
}
