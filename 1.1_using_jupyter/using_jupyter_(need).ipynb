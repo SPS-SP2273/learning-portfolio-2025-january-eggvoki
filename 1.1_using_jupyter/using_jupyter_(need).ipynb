{
 "cells": [
  {
   "attachments": {},
   "cell_type": "markdown",
   "id": "123456",
   "metadata": {},
   "source": [
    "<div style=\"text-align:left;font-size:2em\"><span style=\"font-weight:bolder;font-size:1.25em\">SP2273 | Learning Portfolio</span><br><br><span style=\"font-weight:bold;color:darkred\">Using Jupyter (Need)</span></div>"
   ]
  },
  {
   "cell_type": "code",
   "execution_count": 3,
   "id": "08c0c8fc-9227-4985-8ce6-33cfbdf511a2",
   "metadata": {},
   "outputs": [
    {
     "name": "stdout",
     "output_type": "stream",
     "text": [
      "Hello World\n",
      "Hello World\n",
      "Hello World\n"
     ]
    }
   ],
   "source": [
    "print('Hello World')\n",
    "print('Hello World')\n",
    "print('Hello World')"
   ]
  },
  {
   "cell_type": "markdown",
   "id": "0ce7216c-cc26-428d-8560-153eae129be8",
   "metadata": {},
   "source": [
    "print('Hello World') **Hahah**"
   ]
  },
  {
   "cell_type": "markdown",
   "id": "33371478-61ff-4376-971a-38845038cc13",
   "metadata": {},
   "source": [
    "Hahahahaha"
   ]
  },
  {
   "cell_type": "markdown",
   "id": "862b8438-32e9-4287-b2b4-7fcfab8b90a6",
   "metadata": {},
   "source": [
    "# Top Heading\n",
    "\n",
    "## Second\n",
    "\n",
    "### Second Hahaha\n",
    "\n",
    "The ships *hung in the sky* in much the same way that **bricks don’t.**\n",
    "<sup>1</sup><sub>QUOTE</sub>"
   ]
  },
  {
   "cell_type": "markdown",
   "id": "a0f94cc7-f7e3-423d-af9e-4aa9f7b73cb9",
   "metadata": {},
   "source": [
    "```python\n",
    "print('Hello World!')\n",
    "```"
   ]
  },
  {
   "cell_type": "markdown",
   "id": "ae08b600-8c0e-4d35-abc5-1d6413e30019",
   "metadata": {},
   "source": [
    "[SP2273 Website](https://sps.nus.edu.sg/sp2273)"
   ]
  },
  {
   "cell_type": "markdown",
   "id": "fe188e75-287c-4af0-a174-f48abb967719",
   "metadata": {},
   "source": [
    "![](https://nus.edu.sg/images/default-source/base/logo.png)"
   ]
  },
  {
   "cell_type": "markdown",
   "id": "2091ce16-0934-4cf1-aa30-72f6f873b23f",
   "metadata": {},
   "source": [
    "| A    |  B   |    C |\n",
    "| :--- | :--: | ---: |\n",
    "| a1   |  b1  |   c1 |\n",
    "| a2   |  b2  |   c2 |\n",
    "| a3   |  b3  |   c3 |"
   ]
  },
  {
   "cell_type": "markdown",
   "id": "efd45262-7ed1-4d54-b008-d6a5918ce3f9",
   "metadata": {},
   "source": [
    "1. Master Yoda\n",
    "1. Luke Skywalker\n",
    "1. Anakin Skywalker\n"
   ]
  },
  {
   "cell_type": "markdown",
   "id": "46e4d0f5-fe00-40a2-b6c6-f48dc410208a",
   "metadata": {},
   "source": [
    "- Master Yoda\n",
    "- Luke Skywalker\n",
    "- Anakin Skywalker"
   ]
  },
  {
   "cell_type": "markdown",
   "id": "4f30490d-dc82-4e07-b679-cd36d2221ba9",
   "metadata": {},
   "source": [
    "1. Master Yoda\n",
    "   1. Was a Jedi\n",
    "   1. Was a bit green\n",
    "1. Luke Skywalker\n",
    "   1. Was a Jedi\n",
    "   1. Is Anakin's son.\n",
    "1. Anakin Skywalker\n",
    "   1. Was a Jedi then became a baddie\n",
    "   1. Is famous for saying 'Luke, I am your father'"
   ]
  },
  {
   "cell_type": "markdown",
   "id": "9801be1c-41d6-462d-8836-86d8626207d2",
   "metadata": {},
   "source": [
    "$\\sqrt{b^2-4ac}$"
   ]
  },
  {
   "cell_type": "markdown",
   "id": "8e304b71-32d9-4e69-8061-e34505aad57d",
   "metadata": {},
   "source": [
    "$$x=\\dfrac{-b\\pm\\sqrt{b^2-4ac}}{2a}$$"
   ]
  },
  {
   "cell_type": "markdown",
   "id": "1b098d08-05ec-4b2e-b3c9-104297028b96",
   "metadata": {},
   "source": [
    "$\\dfrac{y}{x}$"
   ]
  },
  {
   "cell_type": "markdown",
   "id": "ab39876f-7cd7-46d3-8539-1e0395a1fe00",
   "metadata": {},
   "source": [
    "$x_{a}$"
   ]
  },
  {
   "cell_type": "markdown",
   "id": "1626782a-0c1b-438c-8b05-7114871c8ba5",
   "metadata": {},
   "source": [
    "$x^{(y+z)}$"
   ]
  },
  {
   "cell_type": "markdown",
   "id": "5152e4ba-0d47-4149-8d07-4ef2127fa989",
   "metadata": {},
   "source": [
    "$\\sqrt{a+b+c}$"
   ]
  },
  {
   "cell_type": "markdown",
   "id": "1bde3848-79e2-4e05-9560-9e67df534a9a",
   "metadata": {},
   "source": [
    "$\\sum_{n=1}^{n=\\infty}x_n$"
   ]
  },
  {
   "cell_type": "markdown",
   "id": "f775cf41-2bfc-43e8-929a-341516ff8044",
   "metadata": {},
   "source": [
    "$\\sum_{n=1}^{n=\\infty} x_n$"
   ]
  },
  {
   "cell_type": "code",
   "execution_count": null,
   "id": "57568a42-581b-4849-905d-83f95727717b",
   "metadata": {},
   "outputs": [],
   "source": [
    "$"
   ]
  },
  {
   "attachments": {},
   "cell_type": "markdown",
   "id": "9f51cd49",
   "metadata": {},
   "source": [
    "# What to expect in this chapter"
   ]
  },
  {
   "attachments": {},
   "cell_type": "markdown",
   "id": "74d61ed5",
   "metadata": {},
   "source": [
    "# 1 Getting ready"
   ]
  },
  {
   "attachments": {},
   "cell_type": "markdown",
   "id": "a0c65b61",
   "metadata": {},
   "source": [
    "# 2 Getting started with Jupyter"
   ]
  },
  {
   "attachments": {},
   "cell_type": "markdown",
   "id": "ffcdfd04",
   "metadata": {},
   "source": [
    "## 2.1 It is all about running cells"
   ]
  },
  {
   "attachments": {},
   "cell_type": "markdown",
   "id": "2c5597d2",
   "metadata": {},
   "source": [
    "## 2.2 A traditional start"
   ]
  },
  {
   "attachments": {},
   "cell_type": "markdown",
   "id": "1e25e6ef",
   "metadata": {},
   "source": [
    "# 3 All about Markdown"
   ]
  },
  {
   "attachments": {},
   "cell_type": "markdown",
   "id": "55fb6b92",
   "metadata": {},
   "source": [
    "## 3.1 Rendering Markdown cells"
   ]
  },
  {
   "attachments": {},
   "cell_type": "markdown",
   "id": "782d7dba",
   "metadata": {},
   "source": [
    "## 3.2 Some basic syntax"
   ]
  },
  {
   "attachments": {},
   "cell_type": "markdown",
   "id": "2484de0a",
   "metadata": {},
   "source": [
    "## 3.3 Headings"
   ]
  },
  {
   "attachments": {},
   "cell_type": "markdown",
   "id": "b02a38c8",
   "metadata": {},
   "source": [
    "## 3.4 Displaying Code"
   ]
  },
  {
   "attachments": {},
   "cell_type": "markdown",
   "id": "b8e06394",
   "metadata": {},
   "source": [
    "## 3.5 Links"
   ]
  },
  {
   "attachments": {},
   "cell_type": "markdown",
   "id": "50bcf33d",
   "metadata": {},
   "source": [
    "## 3.6 Images"
   ]
  },
  {
   "attachments": {},
   "cell_type": "markdown",
   "id": "113af328",
   "metadata": {},
   "source": [
    "## 3.7 Tables"
   ]
  },
  {
   "attachments": {},
   "cell_type": "markdown",
   "id": "0ae655f1",
   "metadata": {},
   "source": [
    "## 3.8 Lists"
   ]
  },
  {
   "attachments": {},
   "cell_type": "markdown",
   "id": "c0512ad4",
   "metadata": {},
   "source": [
    "## 3.9 Equations"
   ]
  },
  {
   "attachments": {},
   "cell_type": "markdown",
   "id": "eeb7eb95",
   "metadata": {},
   "source": [
    "## Footnotes"
   ]
  }
 ],
 "metadata": {
  "kernelspec": {
   "display_name": "Python 3 (ipykernel)",
   "language": "python",
   "name": "python3"
  },
  "language_info": {
   "codemirror_mode": {
    "name": "ipython",
    "version": 3
   },
   "file_extension": ".py",
   "mimetype": "text/x-python",
   "name": "python",
   "nbconvert_exporter": "python",
   "pygments_lexer": "ipython3",
   "version": "3.12.3"
  },
  "toc": {
   "base_numbering": 1,
   "nav_menu": {},
   "number_sections": true,
   "sideBar": true,
   "skip_h1_title": false,
   "title_cell": "Table of Contents",
   "title_sidebar": "Contents",
   "toc_cell": false,
   "toc_position": {},
   "toc_section_display": true,
   "toc_window_display": false
  },
  "vscode": {
   "interpreter": {
    "hash": "31f2aee4e71d21fbe5cf8b01ff0e069b9275f58929596ceb00d14d90e3e16cd6"
   }
  }
 },
 "nbformat": 4,
 "nbformat_minor": 5
}
