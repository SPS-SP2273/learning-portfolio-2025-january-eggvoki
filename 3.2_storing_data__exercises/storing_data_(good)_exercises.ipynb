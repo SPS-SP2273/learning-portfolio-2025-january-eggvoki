{
 "cells": [
  {
   "attachments": {},
   "cell_type": "markdown",
   "id": "123456",
   "metadata": {},
   "source": [
    "<div style=\"text-align:left;font-size:2em\"><span style=\"font-weight:bolder;font-size:1.25em\">SP2273 | Learning Portfolio</span><br><br><span style=\"font-weight:bold;color:darkred\">Storing Data (Good) Exercises</span></div>"
   ]
  },
  {
   "cell_type": "markdown",
   "id": "b20adc9c-bc43-4132-a092-8b979e31d6d1",
   "metadata": {},
   "source": [
    "# Exercise 1 (Total recall)"
   ]
  },
  {
   "cell_type": "markdown",
   "id": "c6a78d47-160a-4dee-94e5-314d16c7be5a",
   "metadata": {},
   "source": [
    "|Term|Brief description|\n",
    "|:-|:-|\n",
    "|Subsetting|Select a subset of the data in a list (or array)|\n",
    "|Indexing|Select a single element|\n",
    "|Slicing|Select a range of elements|\n",
    "|Masking|Subset numbers in an array to show only those that are True|"
   ]
  },
  {
   "cell_type": "markdown",
   "id": "bee28f47-827e-4384-ad9f-2f1595f0eb91",
   "metadata": {},
   "source": [
    "# Exercise 2 (Show me the 'odd' letters)"
   ]
  },
  {
   "cell_type": "code",
   "execution_count": 44,
   "id": "e05596fc-4f3c-44a1-8912-3d1f7288bf85",
   "metadata": {},
   "outputs": [],
   "source": [
    "import numpy as np\n",
    "np_array_2d = np.array([[1, \"A\"], [3, \"C\"], [2, \"B\"], [4, \"D\"],\n",
    "                        [5, \"E\"], [7, \"G\"], [6, \"F\"], [8, \"H\"],\n",
    "                        [10, \"J\"], [9, \"I\"]])"
   ]
  },
  {
   "cell_type": "markdown",
   "id": "954e6ad1-5b5f-485f-bd85-91c83bf06b84",
   "metadata": {},
   "source": [
    "## 1. Subset all the first elements."
   ]
  },
  {
   "cell_type": "code",
   "execution_count": 31,
   "id": "47ce425c-2287-498d-81a9-78d2c4eeec05",
   "metadata": {},
   "outputs": [
    {
     "data": {
      "text/plain": [
       "array(['1', '3', '2', '4', '5', '7', '6', '8', '10', '9'], dtype='<U21')"
      ]
     },
     "execution_count": 31,
     "metadata": {},
     "output_type": "execute_result"
    }
   ],
   "source": [
    "subset_numbers=np_array_2d[:,0]\n",
    "subset_numbers"
   ]
  },
  {
   "cell_type": "markdown",
   "id": "ce338832-d959-478a-b1b0-e69498a5544b",
   "metadata": {},
   "source": [
    "## 2. Convert this to integers using astype(int)"
   ]
  },
  {
   "cell_type": "code",
   "execution_count": 30,
   "id": "6c64b6c9-bf7f-4a97-a163-529a4be3c5bf",
   "metadata": {},
   "outputs": [
    {
     "data": {
      "text/plain": [
       "array([ 1,  3,  2,  4,  5,  7,  6,  8, 10,  9])"
      ]
     },
     "execution_count": 30,
     "metadata": {},
     "output_type": "execute_result"
    }
   ],
   "source": [
    "convert_string_to_int=subset_numbers.astype(int)\n",
    "convert_string_to_int"
   ]
  },
  {
   "cell_type": "markdown",
   "id": "645bf9e6-a029-463a-8595-5c8552bd9a4a",
   "metadata": {},
   "source": [
    "## 3. Use % to get the remainder for division by 2."
   ]
  },
  {
   "cell_type": "code",
   "execution_count": 29,
   "id": "e322dbed-ecc1-4201-ae55-a6bcae68f039",
   "metadata": {},
   "outputs": [
    {
     "data": {
      "text/plain": [
       "array([1, 1, 0, 0, 1, 1, 0, 0, 0, 1])"
      ]
     },
     "execution_count": 29,
     "metadata": {},
     "output_type": "execute_result"
    }
   ],
   "source": [
    "remainder_divide_2=convert_string_to_int%2\n",
    "remainder_divide_2"
   ]
  },
  {
   "cell_type": "markdown",
   "id": "c1de80f4-87d2-4dda-bc70-a993d6f65cbd",
   "metadata": {},
   "source": [
    "## 4. Use the previous result to create a mask that checks if the remainder is zero or not"
   ]
  },
  {
   "cell_type": "code",
   "execution_count": 32,
   "id": "b35536d4-eafa-4e11-ac9d-b27d9ddfd838",
   "metadata": {},
   "outputs": [
    {
     "data": {
      "text/plain": [
       "array([ True,  True, False, False,  True,  True, False, False, False,\n",
       "        True])"
      ]
     },
     "execution_count": 32,
     "metadata": {},
     "output_type": "execute_result"
    }
   ],
   "source": [
    "my_mask=remainder_divide_2==True\n",
    "my_mask"
   ]
  },
  {
   "cell_type": "markdown",
   "id": "865e801e-4758-4627-a300-9b20d514c9c8",
   "metadata": {},
   "source": [
    "## 5. Use the mask and extract the corresponding second elements."
   ]
  },
  {
   "cell_type": "code",
   "execution_count": 46,
   "id": "9d973714-2f9e-407a-b124-a7309831800c",
   "metadata": {},
   "outputs": [
    {
     "data": {
      "text/plain": [
       "array(['A', 'C', 'E', 'G', 'I'], dtype='<U21')"
      ]
     },
     "execution_count": 46,
     "metadata": {},
     "output_type": "execute_result"
    }
   ],
   "source": [
    "np_array_2d[my_mask,1]"
   ]
  },
  {
   "cell_type": "markdown",
   "id": "369525b7-aa12-4d15-9d0d-8aa9f69707c0",
   "metadata": {},
   "source": [
    "# Exercise 3"
   ]
  },
  {
   "cell_type": "code",
   "execution_count": 71,
   "id": "0afda9f3-4ba9-4552-9cd8-3a18dcf33b06",
   "metadata": {},
   "outputs": [],
   "source": [
    "py_list_2d=[[66, 50, 57, -1, -1],\n",
    " [92, -1, 88, -1, -1],\n",
    " [75, -1, -1, 76, -1],\n",
    " [-1, 51, 87, -1, -1],\n",
    " [71, -1, 67, -1, 69]]\n",
    "np_array_2d=np.array(py_list_2d)"
   ]
  },
  {
   "cell_type": "code",
   "execution_count": 72,
   "id": "54b7e5dd-bf15-46ba-9943-928be871b5fe",
   "metadata": {},
   "outputs": [
    {
     "data": {
      "text/plain": [
       "array([[66, 50, 57, -1, -1],\n",
       "       [92, -1, 88, -1, -1],\n",
       "       [75, -1, -1, 76, -1],\n",
       "       [-1, 51, 87, -1, -1],\n",
       "       [71, -1, 67, -1, 69]])"
      ]
     },
     "execution_count": 72,
     "metadata": {},
     "output_type": "execute_result"
    }
   ],
   "source": [
    "np_array_2d.astype(int)"
   ]
  },
  {
   "cell_type": "code",
   "execution_count": 73,
   "id": "c3a00e3a-1f01-41d1-a5f8-d7b6bb53368a",
   "metadata": {},
   "outputs": [
    {
     "name": "stdout",
     "output_type": "stream",
     "text": [
      "[[ 1  0  1 -1 -1]\n",
      " [ 1 -1  1 -1 -1]\n",
      " [ 1 -1 -1  1 -1]\n",
      " [-1  1  1 -1 -1]\n",
      " [ 1 -1  1 -1  1]]\n"
     ]
    }
   ],
   "source": [
    "np_array_2d[np_array_2d<50]=-1\n",
    "np_array_2d[np_array_2d>50]=+1\n",
    "np_array_2d[np_array_2d==50]=0\n",
    "print(np_array_2d)"
   ]
  }
 ],
 "metadata": {
  "kernelspec": {
   "display_name": "Python 3 (ipykernel)",
   "language": "python",
   "name": "python3"
  },
  "language_info": {
   "codemirror_mode": {
    "name": "ipython",
    "version": 3
   },
   "file_extension": ".py",
   "mimetype": "text/x-python",
   "name": "python",
   "nbconvert_exporter": "python",
   "pygments_lexer": "ipython3",
   "version": "3.12.3"
  },
  "toc": {
   "base_numbering": 1,
   "nav_menu": {},
   "number_sections": true,
   "sideBar": true,
   "skip_h1_title": false,
   "title_cell": "Table of Contents",
   "title_sidebar": "Contents",
   "toc_cell": false,
   "toc_position": {},
   "toc_section_display": true,
   "toc_window_display": false
  },
  "vscode": {
   "interpreter": {
    "hash": "31f2aee4e71d21fbe5cf8b01ff0e069b9275f58929596ceb00d14d90e3e16cd6"
   }
  }
 },
 "nbformat": 4,
 "nbformat_minor": 5
}
