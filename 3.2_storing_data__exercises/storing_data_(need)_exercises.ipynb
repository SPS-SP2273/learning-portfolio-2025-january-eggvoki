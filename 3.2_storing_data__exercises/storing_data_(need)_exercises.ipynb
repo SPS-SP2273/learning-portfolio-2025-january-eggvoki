{
 "cells": [
  {
   "attachments": {},
   "cell_type": "markdown",
   "id": "123456",
   "metadata": {},
   "source": [
    "<div style=\"text-align:left;font-size:2em\"><span style=\"font-weight:bolder;font-size:1.25em\">SP2273 | Learning Portfolio</span><br><br><span style=\"font-weight:bold;color:darkred\">Storing Data (Need) Exercises</span></div>"
   ]
  },
  {
   "cell_type": "markdown",
   "id": "345a213d-98d4-4138-ab78-d93e0c52023d",
   "metadata": {},
   "source": [
    "# Exercise 1 (Total recall?)"
   ]
  },
  {
   "cell_type": "markdown",
   "id": "d880684f-a5ab-4c46-9d32-3ef331a32c8f",
   "metadata": {},
   "source": [
    "1. In both lists and arrays, order is very important.\n",
    "   Both lists and arrays have the len() function.\n",
    "\n",
    "2. Arrays insist on having only a single data type whereas lists are more accommodating.\n",
    "An operation on a list works on the whole list whereas an operation on an array works on the individual elements of the array.\n",
    "\n",
    "\n",
    "3. A dictionary holds data (values) paired with a key.\n"
   ]
  },
  {
   "cell_type": "markdown",
   "id": "56c4b6b9-d95f-42a2-97bd-a0a2991a640a",
   "metadata": {},
   "source": [
    "# Exercise 2 (Indexing)"
   ]
  },
  {
   "cell_type": "code",
   "execution_count": 14,
   "id": "1763a9f4-a979-4343-835e-9988ce52aced",
   "metadata": {},
   "outputs": [
    {
     "name": "stdout",
     "output_type": "stream",
     "text": [
      "a1\n",
      "c3\n",
      "e5\n",
      "g7\n",
      "i9\n"
     ]
    }
   ],
   "source": [
    "py_list = [\"a1\", \"b2\", \"c3\", \"d4\", \"e5\", \"f6\", \"g7\", \"h8\", \"i9\", \"j10\"]\n",
    "print(py_list[0])\n",
    "print(py_list[2])\n",
    "print(py_list[4])\n",
    "print(py_list[6])\n",
    "print(py_list[8])"
   ]
  },
  {
   "cell_type": "markdown",
   "id": "adbeda1a-e6a3-498c-af1f-ac920afddd11",
   "metadata": {},
   "source": [
    "# Exercise 3 (Index again)"
   ]
  },
  {
   "cell_type": "code",
   "execution_count": 15,
   "id": "45ee1f39-688f-4761-b599-2bbe6e6a8a8a",
   "metadata": {},
   "outputs": [],
   "source": [
    "elements = ['Hydrogen',\n",
    "            'Helium', 'Lithium',\n",
    "            'Beryllium', 'Boron', 'Carbon',\n",
    "            'Nitrogen', 'Oxygen',\n",
    "            'Fluorine',\n",
    "            'Neon']"
   ]
  },
  {
   "cell_type": "code",
   "execution_count": 19,
   "id": "44b507da-8e48-4b7d-860e-38f8656a3df5",
   "metadata": {},
   "outputs": [
    {
     "name": "stdout",
     "output_type": "stream",
     "text": [
      "Boron\n"
     ]
    }
   ],
   "source": [
    "print(elements[4])"
   ]
  },
  {
   "cell_type": "code",
   "execution_count": 20,
   "id": "135fea35-7735-43a0-a6a1-68537f60d116",
   "metadata": {},
   "outputs": [
    {
     "name": "stdout",
     "output_type": "stream",
     "text": [
      "Boron\n"
     ]
    }
   ],
   "source": [
    "print(elements[-6])"
   ]
  },
  {
   "cell_type": "markdown",
   "id": "c0397e93-7b50-4f5a-992e-6e5cbf98b97a",
   "metadata": {},
   "source": [
    "# Exercise 4 (How many ones)"
   ]
  },
  {
   "cell_type": "code",
   "execution_count": 21,
   "id": "e18a7971-6142-4eeb-a996-5c1dd798bad2",
   "metadata": {},
   "outputs": [],
   "source": [
    "numbers=[45, 60, 1, 30, 96, 1, 96, 57, 16, 1,\n",
    "        99, 62, 86, 43, 42, 60, 59, 1, 1, 35,\n",
    "        83, 47, 34, 28, 68, 23, 22, 92, 1, 79,\n",
    "        1, 29, 94, 72, 46, 47, 1, 74, 32, 20,\n",
    "        8, 37, 35, 1, 89, 29, 86, 19, 43, 61]                  "
   ]
  },
  {
   "cell_type": "code",
   "execution_count": 46,
   "id": "5e89c348-a367-4c6a-85f8-cf0e4ac5acad",
   "metadata": {},
   "outputs": [
    {
     "name": "stdout",
     "output_type": "stream",
     "text": [
      "9\n"
     ]
    }
   ],
   "source": [
    "import numpy as np\n",
    "np_numbers=np.array(numbers)\n",
    "ones=np_numbers[np_numbers==True]\n",
    "number_of_ones=ones.sum()\n",
    "print(number_of_ones)"
   ]
  },
  {
   "cell_type": "markdown",
   "id": "091fdd8a-5ac9-4120-9e52-b20ffc3245e6",
   "metadata": {},
   "source": [
    "# Exercise 5 (A Matter of Statistics)"
   ]
  },
  {
   "cell_type": "code",
   "execution_count": 55,
   "id": "5faeeb92-1dc7-436a-bc40-03d141218062",
   "metadata": {},
   "outputs": [],
   "source": [
    "x_1 = [1, 4, 9, 16, 25, 36, 49, 64, 81, 100]\n",
    "x_2 = [1, 8, 27, 64, 125, 216, 343, 512, 729, 1000]"
   ]
  },
  {
   "cell_type": "markdown",
   "id": "d6c32d2b-41ff-4ff9-a106-8f0c9f51ae09",
   "metadata": {},
   "source": [
    "## 1. Determine the means of x1 and x2"
   ]
  },
  {
   "cell_type": "code",
   "execution_count": 59,
   "id": "eb940435-ec59-41eb-8d58-fea26159da11",
   "metadata": {},
   "outputs": [
    {
     "name": "stdout",
     "output_type": "stream",
     "text": [
      "38.5\n"
     ]
    }
   ],
   "source": [
    "print(np.mean(x_1))"
   ]
  },
  {
   "cell_type": "code",
   "execution_count": 60,
   "id": "e76cc7e3-e3d4-43f0-a1d7-db2748c7f361",
   "metadata": {},
   "outputs": [
    {
     "name": "stdout",
     "output_type": "stream",
     "text": [
      "302.5\n"
     ]
    }
   ],
   "source": [
    "print(np.mean(x_2))"
   ]
  },
  {
   "cell_type": "markdown",
   "id": "a8e3a0e8-762f-433b-bc46-521fbd6de112",
   "metadata": {},
   "source": [
    "## 2. Determine the standard deviations of x1 and x2"
   ]
  },
  {
   "cell_type": "code",
   "execution_count": 61,
   "id": "d7851f66-c7bf-4164-867e-f76ce1f698f7",
   "metadata": {},
   "outputs": [
    {
     "name": "stdout",
     "output_type": "stream",
     "text": [
      "32.41990129534635\n"
     ]
    }
   ],
   "source": [
    "print(np.std(x_1))"
   ]
  },
  {
   "cell_type": "code",
   "execution_count": 62,
   "id": "d98b6550-69e1-4361-a0bc-39c3d347e4bd",
   "metadata": {},
   "outputs": [
    {
     "name": "stdout",
     "output_type": "stream",
     "text": [
      "326.0893282522444\n"
     ]
    }
   ],
   "source": [
    "print(np.std(x_2))"
   ]
  },
  {
   "cell_type": "markdown",
   "id": "197bd7c2-4210-4e0e-b457-a2db49dc5341",
   "metadata": {},
   "source": [
    "## 3. Determine the Pearson correlation coefficient r for the two datasets"
   ]
  },
  {
   "cell_type": "code",
   "execution_count": 76,
   "id": "b74cb702-7142-4800-a501-86e5ec212c0f",
   "metadata": {},
   "outputs": [
    {
     "name": "stdout",
     "output_type": "stream",
     "text": [
      "0.9871796626270701\n"
     ]
    }
   ],
   "source": [
    "numerator_corrcoef=np.sum((x_1-np.mean(x_1))*(x_2-np.mean(x_2)))\n",
    "denominator_corrcoef=np.sqrt(np.sum((x_1-np.mean(x_1))**2))*np.sqrt(np.sum((x_2-np.mean(x_2))**2))\n",
    "corrcoef=numerator_corrcoef/denominator_corrcoef\n",
    "print(corrcoef)"
   ]
  },
  {
   "cell_type": "markdown",
   "id": "b45c4d52-be59-422e-ba64-21d547817ae8",
   "metadata": {},
   "source": [
    "## 4. Compare your results to np.corrcoef()"
   ]
  },
  {
   "cell_type": "code",
   "execution_count": 71,
   "id": "fc846ad2-f825-4f25-ab8b-41be81284d49",
   "metadata": {},
   "outputs": [
    {
     "name": "stdout",
     "output_type": "stream",
     "text": [
      "[[1.         0.98717966]\n",
      " [0.98717966 1.        ]]\n"
     ]
    }
   ],
   "source": [
    "print(np.corrcoef(x_1,x_2))"
   ]
  },
  {
   "cell_type": "markdown",
   "id": "bdf6a2f3-895c-4d05-9a03-1452849c0608",
   "metadata": {},
   "source": [
    "Both have 0.98717966\n",
    "The manual calculation don't have 1 whereas the np calculation have 1.\n",
    "The manual calculation is a float whereas the np calculation is a 2D list."
   ]
  }
 ],
 "metadata": {
  "kernelspec": {
   "display_name": "Python 3 (ipykernel)",
   "language": "python",
   "name": "python3"
  },
  "language_info": {
   "codemirror_mode": {
    "name": "ipython",
    "version": 3
   },
   "file_extension": ".py",
   "mimetype": "text/x-python",
   "name": "python",
   "nbconvert_exporter": "python",
   "pygments_lexer": "ipython3",
   "version": "3.12.3"
  },
  "toc": {
   "base_numbering": 1,
   "nav_menu": {},
   "number_sections": true,
   "sideBar": true,
   "skip_h1_title": false,
   "title_cell": "Table of Contents",
   "title_sidebar": "Contents",
   "toc_cell": false,
   "toc_position": {},
   "toc_section_display": true,
   "toc_window_display": false
  },
  "vscode": {
   "interpreter": {
    "hash": "31f2aee4e71d21fbe5cf8b01ff0e069b9275f58929596ceb00d14d90e3e16cd6"
   }
  }
 },
 "nbformat": 4,
 "nbformat_minor": 5
}
