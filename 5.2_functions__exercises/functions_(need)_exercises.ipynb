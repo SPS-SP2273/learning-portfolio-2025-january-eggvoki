{
 "cells": [
  {
   "attachments": {},
   "cell_type": "markdown",
   "id": "123456",
   "metadata": {},
   "source": [
    "<div style=\"text-align:left;font-size:2em\"><span style=\"font-weight:bolder;font-size:1.25em\">SP2273 | Learning Portfolio</span><br><br><span style=\"font-weight:bold;color:darkred\">Functions (Need) Exercises</span></div>"
   ]
  },
  {
   "cell_type": "markdown",
   "id": "110782db-76dd-43a1-bc69-84109c573c1e",
   "metadata": {},
   "source": [
    "# Exercise 1 (Do you know why?)"
   ]
  },
  {
   "cell_type": "code",
   "execution_count": 5,
   "id": "e156a3d7-33de-44ca-a89f-ff62e6116823",
   "metadata": {},
   "outputs": [],
   "source": [
    "def greeting(name):\n",
    "    if name == 'Batman':\n",
    "        return 'Hello Batman! So, nice to meet you!'\n",
    "    return f'Hello {name}!'"
   ]
  },
  {
   "cell_type": "code",
   "execution_count": 4,
   "id": "bac5edf1-b399-457e-8ef7-928a47314c26",
   "metadata": {},
   "outputs": [
    {
     "data": {
      "text/plain": [
       "'Hello Batman! So, nice to meet you!'"
      ]
     },
     "execution_count": 4,
     "metadata": {},
     "output_type": "execute_result"
    }
   ],
   "source": [
    "greeting('Batman')"
   ]
  },
  {
   "cell_type": "code",
   "execution_count": 5,
   "id": "c1971685-b1f1-4afa-ae3f-db942d746e22",
   "metadata": {},
   "outputs": [
    {
     "data": {
      "text/plain": [
       "'Hello hehe!'"
      ]
     },
     "execution_count": 5,
     "metadata": {},
     "output_type": "execute_result"
    }
   ],
   "source": [
    "greeting('hehe')"
   ]
  },
  {
   "cell_type": "markdown",
   "id": "c36350be-f4d8-4272-974b-804b939c5e15",
   "metadata": {},
   "source": [
    "Because if it's not Batman, python reads the next line which returns Hello {name}"
   ]
  },
  {
   "cell_type": "markdown",
   "id": "4c0b8aae-b042-4a57-aa03-36cc2bb2fc3b",
   "metadata": {},
   "source": [
    "# Exercise 2 (Chubby or not)"
   ]
  },
  {
   "cell_type": "code",
   "execution_count": 19,
   "id": "e6985d80-e188-4097-b6b9-51dc2b814b34",
   "metadata": {},
   "outputs": [],
   "source": [
    "def calculate_bmi(weight, height):\n",
    "    BMI=weight/(height**2)\n",
    "\n",
    "    if BMI<18.5:\n",
    "        return 'Underweight'\n",
    "    elif 18.5<BMI<24.9:\n",
    "        return 'Normal weight'\n",
    "    elif 25<BMI<29.9:\n",
    "        return 'Overweight'\n",
    "    else:\n",
    "        return 'Obese'"
   ]
  },
  {
   "cell_type": "markdown",
   "id": "af2aca59-e848-4fa6-8371-40f7bfca47c1",
   "metadata": {},
   "source": [
    "# Exercise 3 (Factorials)"
   ]
  },
  {
   "cell_type": "code",
   "execution_count": 31,
   "id": "b622510e-1890-46fc-9c7d-a6e7888801e2",
   "metadata": {},
   "outputs": [],
   "source": [
    "def calculate_factorial(n):\n",
    "    if n<0:\n",
    "        return 'Factorial is undefined for negative numbers.'\n",
    "    elif n==0:\n",
    "        return 1\n",
    "    factorial=1 # Start with 1\n",
    "    # Loop throught i=1,2,3,...,n\n",
    "    for i in range(1,n+1):\n",
    "        factorial *= i\n",
    "    return factorial"
   ]
  }
 ],
 "metadata": {
  "kernelspec": {
   "display_name": "Python 3 (ipykernel)",
   "language": "python",
   "name": "python3"
  },
  "language_info": {
   "codemirror_mode": {
    "name": "ipython",
    "version": 3
   },
   "file_extension": ".py",
   "mimetype": "text/x-python",
   "name": "python",
   "nbconvert_exporter": "python",
   "pygments_lexer": "ipython3",
   "version": "3.12.3"
  },
  "toc": {
   "base_numbering": 1,
   "nav_menu": {},
   "number_sections": true,
   "sideBar": true,
   "skip_h1_title": false,
   "title_cell": "Table of Contents",
   "title_sidebar": "Contents",
   "toc_cell": false,
   "toc_position": {},
   "toc_section_display": true,
   "toc_window_display": false
  },
  "vscode": {
   "interpreter": {
    "hash": "31f2aee4e71d21fbe5cf8b01ff0e069b9275f58929596ceb00d14d90e3e16cd6"
   }
  }
 },
 "nbformat": 4,
 "nbformat_minor": 5
}
