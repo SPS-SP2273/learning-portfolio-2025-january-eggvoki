{
 "cells": [
  {
   "attachments": {},
   "cell_type": "markdown",
   "id": "123456",
   "metadata": {},
   "source": [
    "<div style=\"text-align:left;font-size:2em\"><span style=\"font-weight:bolder;font-size:1.25em\">SP2273 | Learning Portfolio</span><br><br><span style=\"font-weight:bold;color:darkred\">Functions (Good) Exercises</span></div>"
   ]
  },
  {
   "cell_type": "markdown",
   "id": "c2c45ebd-4acf-425b-a4d7-bbad0552449f",
   "metadata": {},
   "source": [
    "# Exercise 1 (Celsius to Fahrenheit or Kelvin)"
   ]
  },
  {
   "cell_type": "code",
   "execution_count": 7,
   "id": "b62f53c7-3cc4-4043-8d30-bffbc1cb9fbe",
   "metadata": {},
   "outputs": [],
   "source": [
    "def convert_celsius(temperature_celsius, target_scale='Fahrenheit'):\n",
    "    if target_scale=='Kelvin':\n",
    "        return temperature_celsius+273.15\n",
    "    else:\n",
    "        return temperature_celsius*9/5+32"
   ]
  },
  {
   "cell_type": "markdown",
   "id": "8fb7b626-6284-49e9-b2dd-10ad9f5d00a9",
   "metadata": {},
   "source": [
    "# Exercise 2 (Fahrenheit to Celsius or Kelvin)"
   ]
  },
  {
   "cell_type": "code",
   "execution_count": 12,
   "id": "a502383b-8165-42dc-a42a-cd40f0bb5434",
   "metadata": {},
   "outputs": [],
   "source": [
    "def convert_fahrenheit(temperature_fahrenheit, target_scale='Celsius'):\n",
    "    if target_scale=='Kelvin':\n",
    "        return(temperature_fahrenheit-32)*5/9+273.15\n",
    "    else:\n",
    "        return(temperature_fahrenheit-32)*5/9"
   ]
  },
  {
   "cell_type": "markdown",
   "id": "96c24848-ffbd-4402-8dd9-be8f3ae2435a",
   "metadata": {},
   "source": [
    "# Exercise 3 (General Temperature Conversion)"
   ]
  },
  {
   "cell_type": "code",
   "execution_count": 34,
   "id": "c6289099-5566-4f25-964e-22609c0d2d9a",
   "metadata": {},
   "outputs": [],
   "source": [
    "def convert_celsius(temperature_celsius, target_scale='Fahrenheit'):\n",
    "    if target_scale=='Kelvin':\n",
    "        return temperature_celsius+273.15\n",
    "    else:\n",
    "        return temperature_celsius*9/5+32\n",
    "\n",
    "def convert_fahrenheit(temperature_fahrenheit, target_scale='Celsius'):\n",
    "    if target_scale=='Kelvin':\n",
    "        return(temperature_fahrenheit-32)*5/9+273.15\n",
    "    else:\n",
    "        return(temperature_fahrenheit-32)*5/9\n",
    "\n",
    "def convert_kelvin(temperature_kelvin, target_scale='Celsius'):\n",
    "    if target_scale=='Fahrenheit':\n",
    "        return(temperature_kelvin-273.15)*5/9+32\n",
    "    else:\n",
    "        return(temperature_kelvin-273.15)\n",
    "\n",
    "def convert_temperature(temperature, source_scale, target_scale):\n",
    "    # Convert the input temperature to Celsius\n",
    "    if source_scale=='Celsius':\n",
    "        temp_in_celsius=temperature\n",
    "    elif source_scale=='Fahrenheit':\n",
    "        temp_in_celsius=(temperature-32)*5/9\n",
    "    elif source_scale=='Kelvin':\n",
    "        temp_in_celsius=temperature-273.15\n",
    "\n",
    "    # Convert the Celsius temperature to the target scale\n",
    "    if target_scale=='Celsius':\n",
    "        return temp_in_celsius\n",
    "    elif target_scale=='Fahrenheit':\n",
    "        return convert_celsius(temp_in_celsius, 'Fahrenheit')\n",
    "    elif target_scale=='Kelvin':\n",
    "        return convert_celsius(temp_in_celsius, 'Kelvin')"
   ]
  }
 ],
 "metadata": {
  "kernelspec": {
   "display_name": "Python 3 (ipykernel)",
   "language": "python",
   "name": "python3"
  },
  "language_info": {
   "codemirror_mode": {
    "name": "ipython",
    "version": 3
   },
   "file_extension": ".py",
   "mimetype": "text/x-python",
   "name": "python",
   "nbconvert_exporter": "python",
   "pygments_lexer": "ipython3",
   "version": "3.12.3"
  },
  "toc": {
   "base_numbering": 1,
   "nav_menu": {},
   "number_sections": true,
   "sideBar": true,
   "skip_h1_title": false,
   "title_cell": "Table of Contents",
   "title_sidebar": "Contents",
   "toc_cell": false,
   "toc_position": {},
   "toc_section_display": true,
   "toc_window_display": false
  },
  "vscode": {
   "interpreter": {
    "hash": "31f2aee4e71d21fbe5cf8b01ff0e069b9275f58929596ceb00d14d90e3e16cd6"
   }
  }
 },
 "nbformat": 4,
 "nbformat_minor": 5
}
