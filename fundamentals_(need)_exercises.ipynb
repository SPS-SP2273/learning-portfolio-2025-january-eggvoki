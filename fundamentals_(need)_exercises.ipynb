{
 "cells": [
  {
   "attachments": {},
   "cell_type": "markdown",
   "id": "123456",
   "metadata": {},
   "source": [
    "<div style=\"text-align:left;font-size:2em\"><span style=\"font-weight:bolder;font-size:1.25em\">SP2273 | Learning Portfolio</span><br><br><span style=\"font-weight:bold;color:darkred\">Fundamentals (Need) Exercises</span></div>"
   ]
  },
  {
   "cell_type": "code",
   "execution_count": 14,
   "id": "40e210fd-2a05-4783-964d-15831f7da381",
   "metadata": {},
   "outputs": [
    {
     "name": "stdout",
     "output_type": "stream",
     "text": [
      "Hello World\n",
      "Hahaha\n"
     ]
    }
   ],
   "source": [
    "print('Hello World')\n",
    "print('Hahaha')"
   ]
  },
  {
   "cell_type": "code",
   "execution_count": 13,
   "id": "cb9380d4-944d-4eab-bc92-ac1eb7cb9e62",
   "metadata": {},
   "outputs": [
    {
     "name": "stdout",
     "output_type": "stream",
     "text": [
      "A\n"
     ]
    },
    {
     "ename": "NameError",
     "evalue": "name 'Print' is not defined",
     "output_type": "error",
     "traceback": [
      "\u001b[1;31m---------------------------------------------------------------------------\u001b[0m",
      "\u001b[1;31mNameError\u001b[0m                                 Traceback (most recent call last)",
      "Cell \u001b[1;32mIn[13], line 2\u001b[0m\n\u001b[0;32m      1\u001b[0m \u001b[38;5;28mprint\u001b[39m(\u001b[38;5;124m'\u001b[39m\u001b[38;5;124mA\u001b[39m\u001b[38;5;124m'\u001b[39m)\n\u001b[1;32m----> 2\u001b[0m \u001b[43mPrint\u001b[49m(\u001b[38;5;124m'\u001b[39m\u001b[38;5;124mB\u001b[39m\u001b[38;5;124m'\u001b[39m)\n",
      "\u001b[1;31mNameError\u001b[0m: name 'Print' is not defined"
     ]
    }
   ],
   "source": [
    "print('A')\n",
    "Print('B')"
   ]
  },
  {
   "cell_type": "code",
   "execution_count": 36,
   "id": "c7611991-98cf-47f5-9854-2d75312a1227",
   "metadata": {},
   "outputs": [
    {
     "name": "stdout",
     "output_type": "stream",
     "text": [
      "10\n"
     ]
    }
   ],
   "source": [
    "#This is a comment\n",
    "x=10\n",
    "print(x)"
   ]
  },
  {
   "cell_type": "code",
   "execution_count": 31,
   "id": "4417c209-54b6-497a-a781-0fdfdf7051ec",
   "metadata": {},
   "outputs": [
    {
     "data": {
      "text/plain": [
       "False"
      ]
     },
     "execution_count": 31,
     "metadata": {},
     "output_type": "execute_result"
    }
   ],
   "source": [
    "#Testing equal or not\n",
    "x=10\n",
    "x==100"
   ]
  },
  {
   "cell_type": "code",
   "execution_count": 38,
   "id": "a41c0b30-68dc-4bf6-b713-cc7e4609c783",
   "metadata": {},
   "outputs": [
    {
     "name": "stdout",
     "output_type": "stream",
     "text": [
      "Equal to madness\n"
     ]
    }
   ],
   "source": [
    "x=9\n",
    "if x==10:\n",
    "    print('Equal to 10')\n",
    "\n",
    "print('Equal to madness')"
   ]
  },
  {
   "cell_type": "code",
   "execution_count": 40,
   "id": "754b4241-ca0e-4dba-9bb7-6b7965df76b0",
   "metadata": {},
   "outputs": [],
   "source": [
    "x=9\n",
    "if x==10:\n",
    "    print('Equal to 10')\n",
    "\n",
    "    print('Equal to madness')"
   ]
  },
  {
   "cell_type": "markdown",
   "id": "c43faa30-df32-4793-936a-97adfb7bd022",
   "metadata": {},
   "source": [
    "# One is English"
   ]
  },
  {
   "cell_type": "code",
   "execution_count": 41,
   "id": "0b92a2f5-ac4e-441a-8649-7f62df457212",
   "metadata": {},
   "outputs": [
    {
     "name": "stdout",
     "output_type": "stream",
     "text": [
      "age\n"
     ]
    }
   ],
   "source": [
    "age=10\n",
    "print('age')"
   ]
  },
  {
   "cell_type": "markdown",
   "id": "4c07e204-ffdf-4afe-918a-55def8562dd6",
   "metadata": {},
   "source": [
    "# One is Variable"
   ]
  },
  {
   "cell_type": "code",
   "execution_count": 42,
   "id": "39dd29b0-87a2-4891-ab01-8f3f6eb46a13",
   "metadata": {},
   "outputs": [
    {
     "name": "stdout",
     "output_type": "stream",
     "text": [
      "10\n"
     ]
    }
   ],
   "source": [
    "age=10\n",
    "print(age)"
   ]
  },
  {
   "cell_type": "markdown",
   "id": "619c98da-d6da-461f-acb9-b75306ce0a3b",
   "metadata": {},
   "source": [
    "# Dictionary"
   ]
  },
  {
   "cell_type": "code",
   "execution_count": 49,
   "id": "7a810fad-63bf-4736-99e2-8a1d7c7ebd36",
   "metadata": {},
   "outputs": [
    {
     "name": "stdout",
     "output_type": "stream",
     "text": [
      "10\n"
     ]
    }
   ],
   "source": [
    "list={'key':10}\n",
    "print(list['key'])"
   ]
  },
  {
   "cell_type": "markdown",
   "id": "8f86cad2-e898-4471-9856-fae3751d2a06",
   "metadata": {},
   "source": [
    "# Import the math package"
   ]
  },
  {
   "cell_type": "code",
   "execution_count": 57,
   "id": "45555eb9-c336-46c5-b4a5-549455a8d99c",
   "metadata": {},
   "outputs": [],
   "source": [
    "import math\n",
    "import numpy"
   ]
  },
  {
   "cell_type": "code",
   "execution_count": 56,
   "id": "7515bafc-6075-4288-961f-9366ae6bb51e",
   "metadata": {},
   "outputs": [
    {
     "data": {
      "text/plain": [
       "2.0"
      ]
     },
     "execution_count": 56,
     "metadata": {},
     "output_type": "execute_result"
    }
   ],
   "source": [
    "math.sqrt(4)"
   ]
  },
  {
   "cell_type": "code",
   "execution_count": 55,
   "id": "a8969ed4-fc83-4ddb-8454-ab80a83c2b80",
   "metadata": {},
   "outputs": [
    {
     "data": {
      "text/plain": [
       "np.float64(2.0)"
      ]
     },
     "execution_count": 55,
     "metadata": {},
     "output_type": "execute_result"
    }
   ],
   "source": [
    "numpy.sqrt(4)"
   ]
  },
  {
   "cell_type": "code",
   "execution_count": 58,
   "id": "b2ce3b13-287c-462a-9176-32b6c571d66d",
   "metadata": {},
   "outputs": [
    {
     "ename": "TypeError",
     "evalue": "must be real number, not list",
     "output_type": "error",
     "traceback": [
      "\u001b[1;31m---------------------------------------------------------------------------\u001b[0m",
      "\u001b[1;31mTypeError\u001b[0m                                 Traceback (most recent call last)",
      "Cell \u001b[1;32mIn[58], line 1\u001b[0m\n\u001b[1;32m----> 1\u001b[0m \u001b[43mmath\u001b[49m\u001b[38;5;241;43m.\u001b[39;49m\u001b[43msqrt\u001b[49m\u001b[43m(\u001b[49m\u001b[43m[\u001b[49m\u001b[38;5;241;43m4\u001b[39;49m\u001b[43m,\u001b[49m\u001b[38;5;241;43m9\u001b[39;49m\u001b[43m,\u001b[49m\u001b[38;5;241;43m16\u001b[39;49m\u001b[43m]\u001b[49m\u001b[43m)\u001b[49m\n",
      "\u001b[1;31mTypeError\u001b[0m: must be real number, not list"
     ]
    }
   ],
   "source": [
    "math.sqrt([4,9,16])"
   ]
  },
  {
   "cell_type": "code",
   "execution_count": 59,
   "id": "9e40a7fc-ee1a-47ce-a44b-9e164751e20a",
   "metadata": {},
   "outputs": [
    {
     "data": {
      "text/plain": [
       "array([2., 3., 4.])"
      ]
     },
     "execution_count": 59,
     "metadata": {},
     "output_type": "execute_result"
    }
   ],
   "source": [
    "numpy.sqrt([4,9,16])"
   ]
  },
  {
   "cell_type": "markdown",
   "id": "c2c40edc-d7bc-4d8a-9207-db68ad9f0dd1",
   "metadata": {},
   "source": [
    "# . indicates ownership"
   ]
  },
  {
   "cell_type": "code",
   "execution_count": 60,
   "id": "47dfb098-c270-43ad-a0b3-eb425b77502c",
   "metadata": {},
   "outputs": [
    {
     "data": {
      "text/plain": [
       "'HAHAHA'"
      ]
     },
     "execution_count": 60,
     "metadata": {},
     "output_type": "execute_result"
    }
   ],
   "source": [
    "'hahaha'.upper()"
   ]
  },
  {
   "cell_type": "code",
   "execution_count": 61,
   "id": "b4b334da-dc7a-4b81-80d8-7c7100adac90",
   "metadata": {},
   "outputs": [
    {
     "data": {
      "text/plain": [
       "'Hahaha'"
      ]
     },
     "execution_count": 61,
     "metadata": {},
     "output_type": "execute_result"
    }
   ],
   "source": [
    "'hahaha'.title()"
   ]
  },
  {
   "cell_type": "code",
   "execution_count": 64,
   "id": "9c7ee7c6-8316-48ae-9d70-020cde88dd1c",
   "metadata": {},
   "outputs": [
    {
     "data": {
      "text/plain": [
       "'hEhEhE'"
      ]
     },
     "execution_count": 64,
     "metadata": {},
     "output_type": "execute_result"
    }
   ],
   "source": [
    "'hahaha'.replace('a','E')"
   ]
  }
 ],
 "metadata": {
  "kernelspec": {
   "display_name": "Python 3 (ipykernel)",
   "language": "python",
   "name": "python3"
  },
  "language_info": {
   "codemirror_mode": {
    "name": "ipython",
    "version": 3
   },
   "file_extension": ".py",
   "mimetype": "text/x-python",
   "name": "python",
   "nbconvert_exporter": "python",
   "pygments_lexer": "ipython3",
   "version": "3.12.3"
  },
  "toc": {
   "base_numbering": 1,
   "nav_menu": {},
   "number_sections": true,
   "sideBar": true,
   "skip_h1_title": false,
   "title_cell": "Table of Contents",
   "title_sidebar": "Contents",
   "toc_cell": false,
   "toc_position": {},
   "toc_section_display": true,
   "toc_window_display": false
  },
  "vscode": {
   "interpreter": {
    "hash": "31f2aee4e71d21fbe5cf8b01ff0e069b9275f58929596ceb00d14d90e3e16cd6"
   }
  }
 },
 "nbformat": 4,
 "nbformat_minor": 5
}
